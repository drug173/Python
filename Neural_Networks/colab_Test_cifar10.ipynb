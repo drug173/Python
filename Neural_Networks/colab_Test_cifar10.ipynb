{
  "cells": [
    {
      "cell_type": "markdown",
      "metadata": {
        "colab_type": "text",
        "id": "view-in-github"
      },
      "source": [
        "<a href=\"https://colab.research.google.com/github/drug173/Python/blob/main/Neural_Networks/Test_cifar10.ipynb\" target=\"_parent\"><img src=\"https://colab.research.google.com/assets/colab-badge.svg\" alt=\"Open In Colab\"/></a>"
      ]
    },
    {
      "attachments": {},
      "cell_type": "markdown",
      "metadata": {
        "id": "ps6VA4r1C_wm"
      },
      "source": [
        "# Распознавание объектов на изображениях из набора данных CIFAR-10\n",
        "\n",
        "\n",
        "\n",
        "\n"
      ]
    },
    {
      "cell_type": "code",
      "execution_count": 59,
      "metadata": {
        "id": "T6hmBuIyjRUu",
        "vscode": {
          "languageId": "python"
        }
      },
      "outputs": [],
      "source": [
        "import numpy as np\n",
        "import tensorflow as tf\n",
        "from keras.datasets import cifar10\n",
        "from keras.models import Sequential\n",
        "from keras.layers import Dense, Flatten\n",
        "from keras.layers import Dropout\n",
        "from keras.layers.convolutional import Conv2D, MaxPooling2D\n",
        "from keras.utils import np_utils\n",
        "from keras.preprocessing import image\n",
        "import keras.utils as image\n",
        "from keras.utils import load_img, img_to_array\n",
        "import matplotlib.pyplot as plt\n",
        "%matplotlib inline "
      ]
    },
    {
      "cell_type": "code",
      "execution_count": null,
      "metadata": {
        "id": "PfEKaHglj2VL",
        "vscode": {
          "languageId": "python"
        }
      },
      "outputs": [],
      "source": [
        "# Размер мини-выборки\n",
        "batch_size = 128\n",
        "# Количество классов изображений\n",
        "nb_classes = 10\n",
        "# Количество эпох для обучения\n",
        "nb_epoch = 25\n",
        "# Размер изображений\n",
        "img_rows, img_cols = 32, 32\n",
        "# Количество каналов в изображении: RGB\n",
        "img_channels = 3\n",
        "# Названия классов из набора данных CIFAR-10\n",
        "classes=['самолет', 'автомобиль', 'птица', 'кот', 'олень', 'собака', 'лягушка', 'лошадь', 'корабль', 'грузовик']"
      ]
    },
    {
      "cell_type": "markdown",
      "metadata": {
        "id": "Tt2d0pKXDR1c"
      },
      "source": [
        "## Подготовка данных"
      ]
    },
    {
      "cell_type": "markdown",
      "metadata": {
        "id": "kzQx_ZOZDNYV"
      },
      "source": [
        "**Загружаем данные**"
      ]
    },
    {
      "cell_type": "code",
      "execution_count": null,
      "metadata": {
        "colab": {
          "base_uri": "https://localhost:8080/"
        },
        "id": "ARLcknFUj4Oc",
        "outputId": "7fcaf0e9-cd92-4340-9f94-bc833db01adc",
        "vscode": {
          "languageId": "python"
        }
      },
      "outputs": [
        {
          "name": "stdout",
          "output_type": "stream",
          "text": [
            "Downloading data from https://www.cs.toronto.edu/~kriz/cifar-10-python.tar.gz\n",
            "170498071/170498071 [==============================] - 13s 0us/step\n"
          ]
        }
      ],
      "source": [
        "(X_train, y_train), (X_test, y_test) = cifar10.load_data()"
      ]
    },
    {
      "cell_type": "markdown",
      "metadata": {
        "id": "1EJSbfDoDrnV"
      },
      "source": [
        "**Просмотр примеров данных**"
      ]
    },
    {
      "cell_type": "code",
      "execution_count": null,
      "metadata": {
        "colab": {
          "base_uri": "https://localhost:8080/",
          "height": 301
        },
        "id": "KCXgj92ckE-J",
        "outputId": "8846ffc9-dbb0-456b-d5fc-16959c1014d9",
        "vscode": {
          "languageId": "python"
        }
      },
      "outputs": [
        {
          "data": {
            "image/png": "[encoded data removed]",
            "text/plain": [
              "<Figure size 432x288 with 1 Axes>"
            ]
          },
          "metadata": {},
          "output_type": "display_data"
        },
        {
          "name": "stdout",
          "output_type": "stream",
          "text": [
            "Номер класса: [9]\n",
            "Тип объекта: грузовик\n"
          ]
        }
      ],
      "source": [
        "n = 1\n",
        "plt.imshow(X_train[n])\n",
        "plt.show()\n",
        "print(\"Номер класса:\", y_train[n])\n",
        "print(\"Тип объекта:\", classes[y_train[n][0]])"
      ]
    },
    {
      "cell_type": "markdown",
      "metadata": {
        "id": "2kyCZJECE5Vu"
      },
      "source": [
        "**Нормализуем данные**"
      ]
    },
    {
      "cell_type": "code",
      "execution_count": null,
      "metadata": {
        "id": "C33r-0yNkJUA",
        "vscode": {
          "languageId": "python"
        }
      },
      "outputs": [],
      "source": [
        "X_train = X_train.astype('float32')\n",
        "X_test = X_test.astype('float32')\n",
        "X_train /= 255\n",
        "X_test /= 255"
      ]
    },
    {
      "cell_type": "markdown",
      "metadata": {
        "id": "qj07Mr7CE9Zt"
      },
      "source": [
        "**Преобразуем правильные ответы в формат one hot encoding**"
      ]
    },
    {
      "cell_type": "code",
      "execution_count": null,
      "metadata": {
        "id": "VHzeTThQFEs1",
        "vscode": {
          "languageId": "python"
        }
      },
      "outputs": [],
      "source": [
        "Y_train = np_utils.to_categorical(y_train, nb_classes)\n",
        "Y_test = np_utils.to_categorical(y_test, nb_classes)"
      ]
    },
    {
      "cell_type": "markdown",
      "metadata": {
        "id": "mnT8h77PFLXu"
      },
      "source": [
        "## Создаем нейронную сеть"
      ]
    },
    {
      "cell_type": "code",
      "execution_count": null,
      "metadata": {
        "id": "U0MLXRCqkPGC",
        "vscode": {
          "languageId": "python"
        }
      },
      "outputs": [],
      "source": [
        "# Создаем последовательную модель\n",
        "model = Sequential()\n",
        "# Первый сверточный слой\n",
        "model.add(Conv2D(32, (3, 3), padding='same',\n",
        "                        input_shape=(32, 32, 3), activation='relu'))\n",
        "# Второй сверточный слой\n",
        "model.add(Conv2D(32, (3, 3), activation='relu', padding='same'))\n",
        "# Первый слой подвыборки\n",
        "model.add(MaxPooling2D(pool_size=(2, 2)))\n",
        "# Слой регуляризации Dropout\n",
        "model.add(Dropout(0.25))\n",
        "\n",
        "# Третий сверточный слой\n",
        "model.add(Conv2D(64, (3, 3), padding='same', activation='relu'))\n",
        "# Четвертый сверточный слой\n",
        "model.add(Conv2D(64, (3, 3), activation='relu'))\n",
        "# Второй слой подвыборки\n",
        "model.add(MaxPooling2D(pool_size=(2, 2)))\n",
        "# Слой регуляризации Dropout\n",
        "model.add(Dropout(0.25))\n",
        "# Слой преобразования данных из 2D представления в плоское\n",
        "model.add(Flatten())\n",
        "# Полносвязный слой для классификации\n",
        "model.add(Dense(512, activation='relu'))\n",
        "# Слой регуляризации Dropout\n",
        "model.add(Dropout(0.5))\n",
        "# Выходной полносвязный слой\n",
        "model.add(Dense(nb_classes, activation='softmax'))"
      ]
    },
    {
      "cell_type": "markdown",
      "metadata": {
        "id": "hBCmSlqqFgvd"
      },
      "source": [
        "**Печатаем информацию о сети**"
      ]
    },
    {
      "cell_type": "code",
      "execution_count": null,
      "metadata": {
        "colab": {
          "base_uri": "https://localhost:8080/"
        },
        "id": "QwTq8WR1Frx9",
        "outputId": "7ed188df-e3a5-4242-fe2c-ee45518d82eb",
        "vscode": {
          "languageId": "python"
        }
      },
      "outputs": [
        {
          "name": "stdout",
          "output_type": "stream",
          "text": [
            "Model: \"sequential\"\n",
            "_________________________________________________________________\n",
            " Layer (type)                Output Shape              Param #   \n",
            "=================================================================\n",
            " conv2d (Conv2D)             (None, 32, 32, 32)        896       \n",
            "                                                                 \n",
            " conv2d_1 (Conv2D)           (None, 32, 32, 32)        9248      \n",
            "                                                                 \n",
            " max_pooling2d (MaxPooling2D  (None, 16, 16, 32)       0         \n",
            " )                                                               \n",
            "                                                                 \n",
            " dropout (Dropout)           (None, 16, 16, 32)        0         \n",
            "                                                                 \n",
            " conv2d_2 (Conv2D)           (None, 16, 16, 64)        18496     \n",
            "                                                                 \n",
            " conv2d_3 (Conv2D)           (None, 14, 14, 64)        36928     \n",
            "                                                                 \n",
            " max_pooling2d_1 (MaxPooling  (None, 7, 7, 64)         0         \n",
            " 2D)                                                             \n",
            "                                                                 \n",
            " dropout_1 (Dropout)         (None, 7, 7, 64)          0         \n",
            "                                                                 \n",
            " flatten (Flatten)           (None, 3136)              0         \n",
            "                                                                 \n",
            " dense (Dense)               (None, 512)               1606144   \n",
            "                                                                 \n",
            " dropout_2 (Dropout)         (None, 512)               0         \n",
            "                                                                 \n",
            " dense_1 (Dense)             (None, 10)                5130      \n",
            "                                                                 \n",
            "=================================================================\n",
            "Total params: 1,676,842\n",
            "Trainable params: 1,676,842\n",
            "Non-trainable params: 0\n",
            "_________________________________________________________________\n",
            "None\n"
          ]
        }
      ],
      "source": [
        "print(model.summary())"
      ]
    },
    {
      "cell_type": "markdown",
      "metadata": {
        "id": "iZ8E1aF0FS1s"
      },
      "source": [
        "**Компилируем модель**"
      ]
    },
    {
      "cell_type": "code",
      "execution_count": null,
      "metadata": {
        "id": "VyVlJMdGkrv-",
        "vscode": {
          "languageId": "python"
        }
      },
      "outputs": [],
      "source": [
        "model.compile(loss='categorical_crossentropy',\n",
        "              optimizer='adam',\n",
        "              metrics=['accuracy'])"
      ]
    },
    {
      "cell_type": "markdown",
      "metadata": {
        "id": "Aq23si1YFYhF"
      },
      "source": [
        "## Обучаем нейронную сеть"
      ]
    },
    {
      "cell_type": "code",
      "execution_count": null,
      "metadata": {
        "colab": {
          "base_uri": "https://localhost:8080/"
        },
        "id": "kyH5Ec9RkznF",
        "outputId": "3b0e473b-b4c2-4700-da51-73667da2017c",
        "vscode": {
          "languageId": "python"
        }
      },
      "outputs": [
        {
          "name": "stdout",
          "output_type": "stream",
          "text": [
            "Epoch 1/25\n",
            "352/352 - 17s - loss: 1.5935 - accuracy: 0.4136 - val_loss: 1.2289 - val_accuracy: 0.5536 - 17s/epoch - 49ms/step\n",
            "Epoch 2/25\n",
            "352/352 - 4s - loss: 1.2058 - accuracy: 0.5694 - val_loss: 1.0289 - val_accuracy: 0.6438 - 4s/epoch - 12ms/step\n",
            "Epoch 3/25\n",
            "352/352 - 4s - loss: 1.0410 - accuracy: 0.6287 - val_loss: 0.9047 - val_accuracy: 0.6830 - 4s/epoch - 12ms/step\n",
            "Epoch 4/25\n",
            "352/352 - 4s - loss: 0.9343 - accuracy: 0.6704 - val_loss: 0.8341 - val_accuracy: 0.7166 - 4s/epoch - 12ms/step\n",
            "Epoch 5/25\n",
            "352/352 - 4s - loss: 0.8555 - accuracy: 0.6984 - val_loss: 0.7633 - val_accuracy: 0.7282 - 4s/epoch - 12ms/step\n",
            "Epoch 6/25\n",
            "352/352 - 5s - loss: 0.7928 - accuracy: 0.7190 - val_loss: 0.7173 - val_accuracy: 0.7466 - 5s/epoch - 14ms/step\n",
            "Epoch 7/25\n",
            "352/352 - 5s - loss: 0.7440 - accuracy: 0.7374 - val_loss: 0.7344 - val_accuracy: 0.7494 - 5s/epoch - 15ms/step\n",
            "Epoch 8/25\n",
            "352/352 - 5s - loss: 0.6858 - accuracy: 0.7570 - val_loss: 0.6681 - val_accuracy: 0.7688 - 5s/epoch - 15ms/step\n",
            "Epoch 9/25\n",
            "352/352 - 5s - loss: 0.6445 - accuracy: 0.7720 - val_loss: 0.6534 - val_accuracy: 0.7776 - 5s/epoch - 14ms/step\n",
            "Epoch 10/25\n",
            "352/352 - 4s - loss: 0.6088 - accuracy: 0.7857 - val_loss: 0.6677 - val_accuracy: 0.7684 - 4s/epoch - 13ms/step\n",
            "Epoch 11/25\n",
            "352/352 - 4s - loss: 0.5771 - accuracy: 0.7957 - val_loss: 0.6542 - val_accuracy: 0.7806 - 4s/epoch - 12ms/step\n",
            "Epoch 12/25\n",
            "352/352 - 4s - loss: 0.5457 - accuracy: 0.8058 - val_loss: 0.6208 - val_accuracy: 0.7898 - 4s/epoch - 12ms/step\n",
            "Epoch 13/25\n",
            "352/352 - 5s - loss: 0.5196 - accuracy: 0.8168 - val_loss: 0.6257 - val_accuracy: 0.7966 - 5s/epoch - 13ms/step\n",
            "Epoch 14/25\n",
            "352/352 - 4s - loss: 0.4895 - accuracy: 0.8251 - val_loss: 0.6440 - val_accuracy: 0.7892 - 4s/epoch - 12ms/step\n",
            "Epoch 15/25\n",
            "352/352 - 4s - loss: 0.4766 - accuracy: 0.8304 - val_loss: 0.6055 - val_accuracy: 0.7956 - 4s/epoch - 12ms/step\n",
            "Epoch 16/25\n",
            "352/352 - 4s - loss: 0.4450 - accuracy: 0.8416 - val_loss: 0.6097 - val_accuracy: 0.7988 - 4s/epoch - 12ms/step\n",
            "Epoch 17/25\n",
            "352/352 - 4s - loss: 0.4315 - accuracy: 0.8460 - val_loss: 0.6201 - val_accuracy: 0.7932 - 4s/epoch - 12ms/step\n",
            "Epoch 18/25\n",
            "352/352 - 4s - loss: 0.4116 - accuracy: 0.8516 - val_loss: 0.5973 - val_accuracy: 0.8038 - 4s/epoch - 12ms/step\n",
            "Epoch 19/25\n",
            "352/352 - 4s - loss: 0.3911 - accuracy: 0.8603 - val_loss: 0.6152 - val_accuracy: 0.7994 - 4s/epoch - 12ms/step\n",
            "Epoch 20/25\n",
            "352/352 - 5s - loss: 0.3836 - accuracy: 0.8620 - val_loss: 0.6095 - val_accuracy: 0.8032 - 5s/epoch - 14ms/step\n",
            "Epoch 21/25\n",
            "352/352 - 4s - loss: 0.3677 - accuracy: 0.8674 - val_loss: 0.6470 - val_accuracy: 0.7978 - 4s/epoch - 12ms/step\n",
            "Epoch 22/25\n",
            "352/352 - 4s - loss: 0.3484 - accuracy: 0.8741 - val_loss: 0.6239 - val_accuracy: 0.7980 - 4s/epoch - 12ms/step\n",
            "Epoch 23/25\n",
            "352/352 - 4s - loss: 0.3478 - accuracy: 0.8760 - val_loss: 0.6160 - val_accuracy: 0.8036 - 4s/epoch - 12ms/step\n",
            "Epoch 24/25\n",
            "352/352 - 4s - loss: 0.3344 - accuracy: 0.8799 - val_loss: 0.6305 - val_accuracy: 0.8056 - 4s/epoch - 12ms/step\n",
            "Epoch 25/25\n",
            "352/352 - 5s - loss: 0.3267 - accuracy: 0.8839 - val_loss: 0.6339 - val_accuracy: 0.8036 - 5s/epoch - 14ms/step\n"
          ]
        }
      ],
      "source": [
        "history = model.fit(X_train, Y_train,\n",
        "              batch_size=batch_size,\n",
        "              epochs=nb_epoch,\n",
        "              validation_split=0.1,\n",
        "              shuffle=True,\n",
        "              verbose=2)"
      ]
    },
    {
      "cell_type": "markdown",
      "metadata": {
        "id": "bHssPqMqF9sv"
      },
      "source": [
        "## Оцениваем качетсво обучения сети"
      ]
    },
    {
      "cell_type": "code",
      "execution_count": null,
      "metadata": {
        "colab": {
          "base_uri": "https://localhost:8080/"
        },
        "id": "5y4AHwlNou5y",
        "outputId": "3d984b68-7c67-4c9a-cb00-78184cd0f500",
        "vscode": {
          "languageId": "python"
        }
      },
      "outputs": [
        {
          "name": "stdout",
          "output_type": "stream",
          "text": [
            "Точность работы на тестовых данных: 79.51%\n"
          ]
        }
      ],
      "source": [
        "# Оцениваем качество обучения модели на тестовых данных\n",
        "scores = model.evaluate(X_test, Y_test, verbose=0)\n",
        "print(\"Точность работы на тестовых данных: %.2f%%\" % (scores[1]*100))"
      ]
    },
    {
      "cell_type": "code",
      "execution_count": null,
      "metadata": {
        "colab": {
          "base_uri": "https://localhost:8080/"
        },
        "id": "QgH-q6YPqpPO",
        "outputId": "0137bfa0-26fe-47c0-fc7b-0dfa6cd10e47",
        "vscode": {
          "languageId": "python"
        }
      },
      "outputs": [
        {
          "name": "stdout",
          "output_type": "stream",
          "text": [
            "{'loss': [1.5934921503067017, 1.2058056592941284, 1.040967583656311, 0.9343329071998596, 0.85547935962677, 0.7927625179290771, 0.743956446647644, 0.68584144115448, 0.6445049047470093, 0.6088436245918274, 0.5771177411079407, 0.5456959009170532, 0.5196017622947693, 0.4894605576992035, 0.47655412554740906, 0.44499170780181885, 0.43150147795677185, 0.4115586280822754, 0.3911013901233673, 0.383611798286438, 0.36767512559890747, 0.34837523102760315, 0.3478274643421173, 0.33444058895111084, 0.32668599486351013], 'accuracy': [0.4135555624961853, 0.5694000124931335, 0.6287111043930054, 0.6704000234603882, 0.698377788066864, 0.7189555764198303, 0.7374222278594971, 0.7570222020149231, 0.7719555497169495, 0.7857111096382141, 0.7957333326339722, 0.8057777881622314, 0.8168444633483887, 0.8251110911369324, 0.8303777575492859, 0.8416000008583069, 0.845977783203125, 0.8516444563865662, 0.8603333234786987, 0.861977756023407, 0.8674444556236267, 0.8740666508674622, 0.8759999871253967, 0.8798666596412659, 0.8838666677474976], 'val_loss': [1.2288799285888672, 1.0288822650909424, 0.9046574234962463, 0.8341248035430908, 0.7633417248725891, 0.7172607183456421, 0.7344228029251099, 0.6681228280067444, 0.6534233689308167, 0.6676764488220215, 0.6542205810546875, 0.6207549571990967, 0.6257412433624268, 0.6440274715423584, 0.6055230498313904, 0.609671950340271, 0.6201105713844299, 0.5972995758056641, 0.615227222442627, 0.6094632744789124, 0.6470456123352051, 0.6239071488380432, 0.6159758567810059, 0.6304972767829895, 0.6338832378387451], 'val_accuracy': [0.553600013256073, 0.6438000202178955, 0.6830000281333923, 0.7166000008583069, 0.7282000184059143, 0.7465999722480774, 0.7494000196456909, 0.7688000202178955, 0.7775999903678894, 0.7684000134468079, 0.7806000113487244, 0.7897999882698059, 0.7965999841690063, 0.7892000079154968, 0.7955999970436096, 0.798799991607666, 0.7932000160217285, 0.8037999868392944, 0.7993999719619751, 0.8032000064849854, 0.7978000044822693, 0.7979999780654907, 0.803600013256073, 0.8055999875068665, 0.803600013256073]}\n"
          ]
        }
      ],
      "source": [
        "print(history.history)"
      ]
    },
    {
      "cell_type": "code",
      "execution_count": null,
      "metadata": {
        "colab": {
          "base_uri": "https://localhost:8080/",
          "height": 279
        },
        "id": "Z_xxp2UrNJvz",
        "outputId": "775df495-7168-4b6e-8681-cf3130641106",
        "vscode": {
          "languageId": "python"
        }
      },
      "outputs": [
        {
          "data": {
            "image/png": "[encoded data removed]",
            "text/plain": [
              "<Figure size 432x288 with 1 Axes>"
            ]
          },
          "metadata": {},
          "output_type": "display_data"
        }
      ],
      "source": [
        "history_dict = history.history\n",
        "acc_values = history_dict['loss']\n",
        "val_acc_values = history_dict['val_loss']\n",
        "epochs = range(1, len(acc_values) + 1)\n",
        "plt.plot(epochs, acc_values, 'bo', label='Training loss')\n",
        "plt.plot(epochs, val_acc_values, 'b', label='Validation loss')\n",
        "plt.xlabel('Epochs')\n",
        "plt.ylabel('loss')\n",
        "plt.legend()\n",
        "plt.show()"
      ]
    },
    {
      "cell_type": "code",
      "execution_count": null,
      "metadata": {
        "colab": {
          "base_uri": "https://localhost:8080/",
          "height": 280
        },
        "id": "ubr4smi2vPZ1",
        "outputId": "e5bb4a2e-8dc9-42c9-a1b3-c4581f9ff1e2",
        "vscode": {
          "languageId": "python"
        }
      },
      "outputs": [
        {
          "data": {
            "image/png": "[encoded data removed]",
            "text/plain": [
              "<Figure size 432x288 with 1 Axes>"
            ]
          },
          "metadata": {},
          "output_type": "display_data"
        }
      ],
      "source": [
        "history_dict = history.history\n",
        "acc_values = history_dict['accuracy']\n",
        "val_acc_values = history_dict['val_accuracy']\n",
        "epochs = range(1, len(acc_values) + 1)\n",
        "plt.plot(epochs, acc_values, 'bo', label='Training acc')\n",
        "plt.plot(epochs, val_acc_values, 'b', label='Validation acc')\n",
        "plt.xlabel('Epochs')\n",
        "plt.ylabel('Accuracy')\n",
        "plt.legend()\n",
        "plt.show()"
      ]
    },
    {
      "cell_type": "markdown",
      "metadata": {
        "id": "9Ax2lw6hRDlm"
      },
      "source": [
        "## Сохраняем обученную нейронную сеть"
      ]
    },
    {
      "cell_type": "code",
      "execution_count": null,
      "metadata": {
        "id": "uQhkelwPQ_PE",
        "vscode": {
          "languageId": "python"
        }
      },
      "outputs": [],
      "source": [
        "model_json = model.to_json()\n",
        "json_file = open(\"cifar10_model.json\", \"w\")\n",
        "json_file.write(model_json)\n",
        "json_file.close()\n",
        "model.save_weights(\"cifar10_model.h5\")"
      ]
    },
    {
      "cell_type": "code",
      "execution_count": null,
      "metadata": {
        "colab": {
          "base_uri": "https://localhost:8080/"
        },
        "id": "bn4CEGiURBz7",
        "outputId": "24de7400-c200-4692-f438-c5c68f20a60c",
        "vscode": {
          "languageId": "python"
        }
      },
      "outputs": [
        {
          "name": "stdout",
          "output_type": "stream",
          "text": [
            "cifar10_model.h5  cifar10_model.json  sample_data\n"
          ]
        }
      ],
      "source": [
        "!ls"
      ]
    },
    {
      "cell_type": "code",
      "execution_count": null,
      "metadata": {
        "id": "rV8R1WhKVpZK",
        "vscode": {
          "languageId": "python"
        }
      },
      "outputs": [],
      "source": [
        "from google.colab import files"
      ]
    },
    {
      "cell_type": "code",
      "execution_count": null,
      "metadata": {
        "colab": {
          "base_uri": "https://localhost:8080/",
          "height": 17
        },
        "id": "udkAZlWbVi7C",
        "outputId": "78122639-765b-44f8-d504-ae7e81988eaa",
        "vscode": {
          "languageId": "python"
        }
      },
      "outputs": [
        {
          "data": {
            "application/javascript": "\n    async function download(id, filename, size) {\n      if (!google.colab.kernel.accessAllowed) {\n        return;\n      }\n      const div = document.createElement('div');\n      const label = document.createElement('label');\n      label.textContent = `Downloading \"${filename}\": `;\n      div.appendChild(label);\n      const progress = document.createElement('progress');\n      progress.max = size;\n      div.appendChild(progress);\n      document.body.appendChild(div);\n\n      const buffers = [];\n      let downloaded = 0;\n\n      const channel = await google.colab.kernel.comms.open(id);\n      // Send a message to notify the kernel that we're ready.\n      channel.send({})\n\n      for await (const message of channel.messages) {\n        // Send a message to notify the kernel that we're ready.\n        channel.send({})\n        if (message.buffers) {\n          for (const buffer of message.buffers) {\n            buffers.push(buffer);\n            downloaded += buffer.byteLength;\n            progress.value = downloaded;\n          }\n        }\n      }\n      const blob = new Blob(buffers, {type: 'application/binary'});\n      const a = document.createElement('a');\n      a.href = window.URL.createObjectURL(blob);\n      a.download = filename;\n      div.appendChild(a);\n      a.click();\n      div.remove();\n    }\n  ",
            "text/plain": [
              "<IPython.core.display.Javascript object>"
            ]
          },
          "metadata": {},
          "output_type": "display_data"
        },
        {
          "data": {
            "application/javascript": "download(\"download_fe2d067d-4711-4e6d-aeb2-86153407157e\", \"cifar10_model.json\", 4383)",
            "text/plain": [
              "<IPython.core.display.Javascript object>"
            ]
          },
          "metadata": {},
          "output_type": "display_data"
        }
      ],
      "source": [
        "files.download(\"cifar10_model.json\")"
      ]
    },
    {
      "cell_type": "code",
      "execution_count": null,
      "metadata": {
        "colab": {
          "base_uri": "https://localhost:8080/",
          "height": 17
        },
        "id": "Q1oY_XT2VvKp",
        "outputId": "7d77e3ae-a551-4934-f4a3-cd1064850110",
        "vscode": {
          "languageId": "python"
        }
      },
      "outputs": [
        {
          "data": {
            "application/javascript": "\n    async function download(id, filename, size) {\n      if (!google.colab.kernel.accessAllowed) {\n        return;\n      }\n      const div = document.createElement('div');\n      const label = document.createElement('label');\n      label.textContent = `Downloading \"${filename}\": `;\n      div.appendChild(label);\n      const progress = document.createElement('progress');\n      progress.max = size;\n      div.appendChild(progress);\n      document.body.appendChild(div);\n\n      const buffers = [];\n      let downloaded = 0;\n\n      const channel = await google.colab.kernel.comms.open(id);\n      // Send a message to notify the kernel that we're ready.\n      channel.send({})\n\n      for await (const message of channel.messages) {\n        // Send a message to notify the kernel that we're ready.\n        channel.send({})\n        if (message.buffers) {\n          for (const buffer of message.buffers) {\n            buffers.push(buffer);\n            downloaded += buffer.byteLength;\n            progress.value = downloaded;\n          }\n        }\n      }\n      const blob = new Blob(buffers, {type: 'application/binary'});\n      const a = document.createElement('a');\n      a.href = window.URL.createObjectURL(blob);\n      a.download = filename;\n      div.appendChild(a);\n      a.click();\n      div.remove();\n    }\n  ",
            "text/plain": [
              "<IPython.core.display.Javascript object>"
            ]
          },
          "metadata": {},
          "output_type": "display_data"
        },
        {
          "data": {
            "application/javascript": "download(\"download_e3c0ef14-a23e-4587-9b19-30b593f9ae6a\", \"cifar10_model.h5\", 6737848)",
            "text/plain": [
              "<IPython.core.display.Javascript object>"
            ]
          },
          "metadata": {},
          "output_type": "display_data"
        }
      ],
      "source": [
        "files.download(\"cifar10_model.h5\")"
      ]
    },
    {
      "cell_type": "code",
      "execution_count": null,
      "metadata": {
        "id": "zSUDYHKStF3W",
        "vscode": {
          "languageId": "python"
        }
      },
      "outputs": [],
      "source": [
        "#print(X_test)"
      ]
    },
    {
      "cell_type": "markdown",
      "metadata": {
        "id": "CDf9Gw19GIGO"
      },
      "source": [
        "## Применяем сеть для распознавания объектов на изображениях"
      ]
    },
    {
      "cell_type": "markdown",
      "metadata": {
        "id": "wFujwhUEGWOG"
      },
      "source": [
        "**Просмотр изображения из набора данных для тестирования**"
      ]
    },
    {
      "cell_type": "code",
      "execution_count": null,
      "metadata": {
        "colab": {
          "base_uri": "https://localhost:8080/",
          "height": 266
        },
        "id": "bxaxjSOAGOPX",
        "outputId": "1b34b3e5-0ea3-417a-aa9d-417420e8ebff",
        "vscode": {
          "languageId": "python"
        }
      },
      "outputs": [
        {
          "data": {
            "image/png": "[encoded data removed]",
            "text/plain": [
              "<Figure size 432x288 with 1 Axes>"
            ]
          },
          "metadata": {},
          "output_type": "display_data"
        }
      ],
      "source": [
        "index=11\n",
        "plt.imshow((X_test[index]))\n",
        "plt.show()"
      ]
    },
    {
      "cell_type": "markdown",
      "metadata": {
        "id": "ByO-DUMJGc32"
      },
      "source": [
        "**Преобразование тестового изображения**"
      ]
    },
    {
      "cell_type": "code",
      "execution_count": null,
      "metadata": {
        "id": "kvZbyn6xGhUe",
        "vscode": {
          "languageId": "python"
        }
      },
      "outputs": [],
      "source": [
        "x = X_test[index]\n",
        "x = np.expand_dims(x, axis=0)"
      ]
    },
    {
      "cell_type": "markdown",
      "metadata": {
        "id": "hxcp2FfPGog1"
      },
      "source": [
        "**Запуск распознавания**"
      ]
    },
    {
      "cell_type": "code",
      "execution_count": null,
      "metadata": {
        "colab": {
          "base_uri": "https://localhost:8080/"
        },
        "id": "Ap72-9_kNKU2",
        "outputId": "aa027f9a-4d53-41c8-cd8d-1cd6d68abf7b",
        "vscode": {
          "languageId": "python"
        }
      },
      "outputs": [
        {
          "name": "stdout",
          "output_type": "stream",
          "text": [
            "1/1 [==============================] - 0s 23ms/step\n"
          ]
        }
      ],
      "source": [
        "prediction = model.predict(x)"
      ]
    },
    {
      "cell_type": "markdown",
      "metadata": {
        "id": "2Gldpmn2NQ6-"
      },
      "source": [
        "**Печатаем результаты распознавания**"
      ]
    },
    {
      "cell_type": "code",
      "execution_count": null,
      "metadata": {
        "colab": {
          "base_uri": "https://localhost:8080/"
        },
        "id": "P7opRiSZNUku",
        "outputId": "7e4e394b-1dc3-4c0e-ca39-49ff02888daa",
        "vscode": {
          "languageId": "python"
        }
      },
      "outputs": [
        {
          "name": "stdout",
          "output_type": "stream",
          "text": [
            "[[1.26687929e-12 4.79028772e-09 8.14013513e-20 6.09175159e-20\n",
            "  2.11428577e-25 1.31771815e-23 3.70555952e-21 4.00693831e-22\n",
            "  5.83774652e-12 1.00000000e+00]]\n"
          ]
        }
      ],
      "source": [
        "print(prediction)"
      ]
    },
    {
      "cell_type": "markdown",
      "metadata": {
        "id": "LQTiyEM3NfRG"
      },
      "source": [
        "**Преобразуем результаты из формата one hot encoding**"
      ]
    },
    {
      "cell_type": "code",
      "execution_count": null,
      "metadata": {
        "colab": {
          "base_uri": "https://localhost:8080/"
        },
        "id": "XVC_dTGqNohG",
        "outputId": "cdd963ef-757a-438d-90ad-0f9f70f437ac",
        "vscode": {
          "languageId": "python"
        }
      },
      "outputs": [
        {
          "name": "stdout",
          "output_type": "stream",
          "text": [
            "грузовик\n"
          ]
        }
      ],
      "source": [
        "prediction = np.argmax(prediction)\n",
        "print(classes[prediction])"
      ]
    },
    {
      "cell_type": "markdown",
      "metadata": {
        "id": "zJy8tKjuNyD2"
      },
      "source": [
        "**Печатаем правильный ответ**"
      ]
    },
    {
      "cell_type": "code",
      "execution_count": null,
      "metadata": {
        "colab": {
          "base_uri": "https://localhost:8080/"
        },
        "id": "0zoGlCZWN2Id",
        "outputId": "94752aa4-c37a-4d9d-86d4-f5e5417fb01f",
        "vscode": {
          "languageId": "python"
        }
      },
      "outputs": [
        {
          "name": "stdout",
          "output_type": "stream",
          "text": [
            "грузовик\n"
          ]
        }
      ],
      "source": [
        "print(classes[y_test[index][0]])"
      ]
    },
    {
      "cell_type": "markdown",
      "metadata": {
        "id": "1QnZ1pfIA_jo"
      },
      "source": [
        "## Распознаем дополнительное изображение"
      ]
    },
    {
      "cell_type": "code",
      "execution_count": 51,
      "metadata": {
        "colab": {
          "base_uri": "https://localhost:8080/",
          "height": 65
        },
        "id": "UjfiJbX7BEtA",
        "outputId": "1be1440e-8d69-45b1-fb17-30921e378379",
        "vscode": {
          "languageId": "python"
        }
      },
      "outputs": [
        {
          "data": {
            "text/html": [
              "\n",
              "     <input type=\"file\" id=\"files-ffa78c78-2dd7-4684-845e-9dded6c7645e\" name=\"files[]\" multiple disabled\n",
              "        style=\"border:none\" />\n",
              "     <output id=\"result-ffa78c78-2dd7-4684-845e-9dded6c7645e\">\n",
              "      Upload widget is only available when the cell has been executed in the\n",
              "      current browser session. Please rerun this cell to enable.\n",
              "      </output>\n",
              "      <script>// Copyright 2017 Google LLC\n",
              "//\n",
              "// Licensed under the Apache License, Version 2.0 (the \"License\");\n",
              "// you may not use this file except in compliance with the License.\n",
              "// You may obtain a copy of the License at\n",
              "//\n",
              "//      http://www.apache.org/licenses/LICENSE-2.0\n",
              "//\n",
              "// Unless required by applicable law or agreed to in writing, software\n",
              "// distributed under the License is distributed on an \"AS IS\" BASIS,\n",
              "// WITHOUT WARRANTIES OR CONDITIONS OF ANY KIND, either express or implied.\n",
              "// See the License for the specific language governing permissions and\n",
              "// limitations under the License.\n",
              "\n",
              "/**\n",
              " * @fileoverview Helpers for google.colab Python module.\n",
              " */\n",
              "(function(scope) {\n",
              "function span(text, styleAttributes = {}) {\n",
              "  const element = document.createElement('span');\n",
              "  element.textContent = text;\n",
              "  for (const key of Object.keys(styleAttributes)) {\n",
              "    element.style[key] = styleAttributes[key];\n",
              "  }\n",
              "  return element;\n",
              "}\n",
              "\n",
              "// Max number of bytes which will be uploaded at a time.\n",
              "const MAX_PAYLOAD_SIZE = 100 * 1024;\n",
              "\n",
              "function _uploadFiles(inputId, outputId) {\n",
              "  const steps = uploadFilesStep(inputId, outputId);\n",
              "  const outputElement = document.getElementById(outputId);\n",
              "  // Cache steps on the outputElement to make it available for the next call\n",
              "  // to uploadFilesContinue from Python.\n",
              "  outputElement.steps = steps;\n",
              "\n",
              "  return _uploadFilesContinue(outputId);\n",
              "}\n",
              "\n",
              "// This is roughly an async generator (not supported in the browser yet),\n",
              "// where there are multiple asynchronous steps and the Python side is going\n",
              "// to poll for completion of each step.\n",
              "// This uses a Promise to block the python side on completion of each step,\n",
              "// then passes the result of the previous step as the input to the next step.\n",
              "function _uploadFilesContinue(outputId) {\n",
              "  const outputElement = document.getElementById(outputId);\n",
              "  const steps = outputElement.steps;\n",
              "\n",
              "  const next = steps.next(outputElement.lastPromiseValue);\n",
              "  return Promise.resolve(next.value.promise).then((value) => {\n",
              "    // Cache the last promise value to make it available to the next\n",
              "    // step of the generator.\n",
              "    outputElement.lastPromiseValue = value;\n",
              "    return next.value.response;\n",
              "  });\n",
              "}\n",
              "\n",
              "/**\n",
              " * Generator function which is called between each async step of the upload\n",
              " * process.\n",
              " * @param {string} inputId Element ID of the input file picker element.\n",
              " * @param {string} outputId Element ID of the output display.\n",
              " * @return {!Iterable<!Object>} Iterable of next steps.\n",
              " */\n",
              "function* uploadFilesStep(inputId, outputId) {\n",
              "  const inputElement = document.getElementById(inputId);\n",
              "  inputElement.disabled = false;\n",
              "\n",
              "  const outputElement = document.getElementById(outputId);\n",
              "  outputElement.innerHTML = '';\n",
              "\n",
              "  const pickedPromise = new Promise((resolve) => {\n",
              "    inputElement.addEventListener('change', (e) => {\n",
              "      resolve(e.target.files);\n",
              "    });\n",
              "  });\n",
              "\n",
              "  const cancel = document.createElement('button');\n",
              "  inputElement.parentElement.appendChild(cancel);\n",
              "  cancel.textContent = 'Cancel upload';\n",
              "  const cancelPromise = new Promise((resolve) => {\n",
              "    cancel.onclick = () => {\n",
              "      resolve(null);\n",
              "    };\n",
              "  });\n",
              "\n",
              "  // Wait for the user to pick the files.\n",
              "  const files = yield {\n",
              "    promise: Promise.race([pickedPromise, cancelPromise]),\n",
              "    response: {\n",
              "      action: 'starting',\n",
              "    }\n",
              "  };\n",
              "\n",
              "  cancel.remove();\n",
              "\n",
              "  // Disable the input element since further picks are not allowed.\n",
              "  inputElement.disabled = true;\n",
              "\n",
              "  if (!files) {\n",
              "    return {\n",
              "      response: {\n",
              "        action: 'complete',\n",
              "      }\n",
              "    };\n",
              "  }\n",
              "\n",
              "  for (const file of files) {\n",
              "    const li = document.createElement('li');\n",
              "    li.append(span(file.name, {fontWeight: 'bold'}));\n",
              "    li.append(span(\n",
              "        `(${file.type || 'n/a'}) - ${file.size} bytes, ` +\n",
              "        `last modified: ${\n",
              "            file.lastModifiedDate ? file.lastModifiedDate.toLocaleDateString() :\n",
              "                                    'n/a'} - `));\n",
              "    const percent = span('0% done');\n",
              "    li.appendChild(percent);\n",
              "\n",
              "    outputElement.appendChild(li);\n",
              "\n",
              "    const fileDataPromise = new Promise((resolve) => {\n",
              "      const reader = new FileReader();\n",
              "      reader.onload = (e) => {\n",
              "        resolve(e.target.result);\n",
              "      };\n",
              "      reader.readAsArrayBuffer(file);\n",
              "    });\n",
              "    // Wait for the data to be ready.\n",
              "    let fileData = yield {\n",
              "      promise: fileDataPromise,\n",
              "      response: {\n",
              "        action: 'continue',\n",
              "      }\n",
              "    };\n",
              "\n",
              "    // Use a chunked sending to avoid message size limits. See b/62115660.\n",
              "    let position = 0;\n",
              "    do {\n",
              "      const length = Math.min(fileData.byteLength - position, MAX_PAYLOAD_SIZE);\n",
              "      const chunk = new Uint8Array(fileData, position, length);\n",
              "      position += length;\n",
              "\n",
              "      const base64 = btoa(String.fromCharCode.apply(null, chunk));\n",
              "      yield {\n",
              "        response: {\n",
              "          action: 'append',\n",
              "          file: file.name,\n",
              "          data: base64,\n",
              "        },\n",
              "      };\n",
              "\n",
              "      let percentDone = fileData.byteLength === 0 ?\n",
              "          100 :\n",
              "          Math.round((position / fileData.byteLength) * 100);\n",
              "      percent.textContent = `${percentDone}% done`;\n",
              "\n",
              "    } while (position < fileData.byteLength);\n",
              "  }\n",
              "\n",
              "  // All done.\n",
              "  yield {\n",
              "    response: {\n",
              "      action: 'complete',\n",
              "    }\n",
              "  };\n",
              "}\n",
              "\n",
              "scope.google = scope.google || {};\n",
              "scope.google.colab = scope.google.colab || {};\n",
              "scope.google.colab._files = {\n",
              "  _uploadFiles,\n",
              "  _uploadFilesContinue,\n",
              "};\n",
              "})(self);\n",
              "</script> "
            ],
            "text/plain": [
              "<IPython.core.display.HTML object>"
            ]
          },
          "metadata": {},
          "output_type": "display_data"
        },
        {
          "data": {
            "text/plain": [
              "{}"
            ]
          },
          "execution_count": 51,
          "metadata": {},
          "output_type": "execute_result"
        }
      ],
      "source": [
        "from google.colab import files\n",
        "\n",
        "files.upload()"
      ]
    },
    {
      "cell_type": "markdown",
      "metadata": {
        "id": "eRy8lcOMXqi5"
      },
      "source": [
        "Проверяем загрузку файлов"
      ]
    },
    {
      "cell_type": "code",
      "execution_count": 52,
      "metadata": {
        "colab": {
          "base_uri": "https://localhost:8080/"
        },
        "id": "Hig0d3VOBplC",
        "outputId": "f3813727-0724-4a73-c7db-1930ad373816",
        "vscode": {
          "languageId": "python"
        }
      },
      "outputs": [
        {
          "name": "stdout",
          "output_type": "stream",
          "text": [
            "1.jpg  cifar10_model.h5  cifar10_model.json  sample_data\n"
          ]
        }
      ],
      "source": [
        "!ls"
      ]
    },
    {
      "cell_type": "markdown",
      "metadata": {
        "id": "Ep-7TkvbXunR"
      },
      "source": [
        "**Смотрим загруженную картинку**"
      ]
    },
    {
      "cell_type": "code",
      "execution_count": 62,
      "metadata": {
        "colab": {
          "base_uri": "https://localhost:8080/",
          "height": 266
        },
        "id": "DpEJyRjDXUuh",
        "outputId": "0fefdfdc-3780-4c4b-b97d-f8ddedda5264",
        "vscode": {
          "languageId": "python"
        }
      },
      "outputs": [
        {
          "data": {
            "image/png": "[encoded data removed]",
            "text/plain": [
              "<Figure size 432x288 with 1 Axes>"
            ]
          },
          "metadata": {
            "needs_background": "light"
          },
          "output_type": "display_data"
        }
      ],
      "source": [
        "img_path = '1.jpg'\n",
        "#img = tf.keras.utils.load_img(img_path, target_size=(32, 32))\n",
        "img = image.load_img(img_path, target_size=(32, 32))\n",
        "plt.imshow(img)\n",
        "plt.show()"
      ]
    },
    {
      "cell_type": "markdown",
      "metadata": {
        "id": "KTwbT6byXyrC"
      },
      "source": [
        "**Преобразуем картинку в массив для распознавания**"
      ]
    },
    {
      "cell_type": "code",
      "execution_count": 60,
      "metadata": {
        "id": "QTdXEhQ3X13R",
        "vscode": {
          "languageId": "python"
        }
      },
      "outputs": [],
      "source": [
        "x = image.img_to_array(img)\n",
        "x /= 255\n",
        "x = np.expand_dims(x, axis=0)"
      ]
    },
    {
      "cell_type": "markdown",
      "metadata": {
        "id": "oeeqy0cjX7j6"
      },
      "source": [
        "**Запускаем распознавание**"
      ]
    },
    {
      "cell_type": "code",
      "execution_count": 61,
      "metadata": {
        "colab": {
          "base_uri": "https://localhost:8080/"
        },
        "id": "cVIxQljlX-LZ",
        "outputId": "8f7c42a9-f1eb-4690-80e1-7c0aee94ff72",
        "vscode": {
          "languageId": "python"
        }
      },
      "outputs": [
        {
          "name": "stdout",
          "output_type": "stream",
          "text": [
            "1/1 [==============================] - 0s 23ms/step\n",
            "самолет\n"
          ]
        }
      ],
      "source": [
        "prediction = model.predict(x)\n",
        "prediction = np.argmax(prediction)\n",
        "print(classes[prediction])"
      ]
    }
  ],
  "metadata": {
    "accelerator": "GPU",
    "colab": {
      "include_colab_link": true,
      "provenance": []
    },
    "kernelspec": {
      "display_name": "Python 3",
      "name": "python3"
    }
  },
  "nbformat": 4,
  "nbformat_minor": 0
}
