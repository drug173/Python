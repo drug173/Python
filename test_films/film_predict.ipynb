{
 "cells": [
  {
   "cell_type": "code",
   "execution_count": null,
   "id": "6b95639a-d3a9-46c1-8301-44bfb9cbd359",
   "metadata": {},
   "outputs": [],
   "source": []
  },
  {
   "cell_type": "code",
   "execution_count": 1,
   "id": "215fade7-99e3-41f4-8b49-7237970c1ddc",
   "metadata": {
    "tags": []
   },
   "outputs": [],
   "source": [
    "import os\n",
    "import torch\n",
    "import torch.nn as nn"
   ]
  },
  {
   "cell_type": "code",
   "execution_count": null,
   "id": "95c0c699-0571-4ffa-a97c-f007743b1733",
   "metadata": {},
   "outputs": [],
   "source": []
  },
  {
   "cell_type": "code",
   "execution_count": 2,
   "id": "83ad8a41-b13c-47a8-a857-e4a8131ba03b",
   "metadata": {
    "tags": []
   },
   "outputs": [],
   "source": [
    "# Расположение файла для кодировки слов\n",
    "path_vocab = 'C:\\\\Users\\\\drug1\\\\Anaconda\\\\Keras\\\\films\\\\imdb.vocab'"
   ]
  },
  {
   "cell_type": "code",
   "execution_count": null,
   "id": "e452c6de-ab10-4241-bdbe-6861cea6d417",
   "metadata": {
    "tags": []
   },
   "outputs": [],
   "source": []
  },
  {
   "cell_type": "code",
   "execution_count": 3,
   "id": "ee3286f8-3485-4009-b634-8d078b044fff",
   "metadata": {
    "tags": []
   },
   "outputs": [],
   "source": [
    "##### функция преобразования текста в числа\n",
    "\n",
    "def transform_text(text1, path_vocab=path_vocab, len_text=280):\n",
    "    fl = False \n",
    "    with open(path_vocab, \"r\") as f1:\n",
    "        vocab = f1.read().splitlines()\n",
    "    vocab = vocab[:39998]  \n",
    "    mass = [] \n",
    "    str1 =''    \n",
    "    for ch in text1:\n",
    "        if len(mass)>len_text-1: # если слов больше чем нужно, выходим\n",
    "            data_tensor = torch.tensor(mass)\n",
    "            return data_tensor\n",
    "        if ch !=' ':\n",
    "            str1 = str1 + ch\n",
    "        if ch ==' ':\n",
    "            if str1 !='':                      \n",
    "                fl = False                                                            \n",
    "                for i in range(len(vocab)):\n",
    "                    if str1.lower() == vocab[i].lower():\n",
    "                        fl = True\n",
    "                        mass.append(i+2)\n",
    "                        str1 =''\n",
    "                        break                                                 \n",
    "                if fl == False: #  если слово не найдено, заменяем нулями\n",
    "                    mass.append(0)\n",
    "                    str1 =''        \n",
    "    for i in range(len(vocab)): # Проверяем последнее слово\n",
    "        if str1.lower() == vocab[i].lower():\n",
    "            fl = True\n",
    "            mass.append(i+2)\n",
    "            str1 =''\n",
    "            break                                                 \n",
    "    if fl == False: #  если слово не найдено, заменяем нулями\n",
    "        mass.append(0)\n",
    "        str1 =''\n",
    "\n",
    "    if len(mass)<len_text:  #  если слов меньше чем нужно, добавляем нулями.\n",
    "        while len(mass)<len_text:\n",
    "            mass.insert(0, 0)\n",
    "            str1 =''       \n",
    "    data_tensor = torch.tensor(mass)    \n",
    "    return data_tensor"
   ]
  },
  {
   "cell_type": "code",
   "execution_count": null,
   "id": "55cdcf49-35ff-4da7-a8c2-1b6666691f77",
   "metadata": {},
   "outputs": [],
   "source": []
  },
  {
   "cell_type": "code",
   "execution_count": null,
   "id": "efbb56ff-d77c-4c80-9e67-2fd26116007a",
   "metadata": {},
   "outputs": [],
   "source": []
  },
  {
   "cell_type": "code",
   "execution_count": null,
   "id": "e3c9f8e2-1cff-4d00-b0dc-85ff5422e32c",
   "metadata": {},
   "outputs": [],
   "source": []
  },
  {
   "cell_type": "code",
   "execution_count": 4,
   "id": "56e50c69-4391-423b-a666-eb83d9248074",
   "metadata": {
    "tags": []
   },
   "outputs": [],
   "source": [
    "\n",
    "# Определение класса модели\n",
    "class SentimentClassifier(nn.Module):\n",
    "    def __init__(self, input_size, hidden_size, num_classes):\n",
    "        super(SentimentClassifier, self).__init__()\n",
    "        self.hidden_size = hidden_size\n",
    "        self.embedding = nn.Embedding(input_size, hidden_size)\n",
    "        self.lstm1 = nn.LSTM(hidden_size, hidden_size, batch_first=True)\n",
    "        self.lstm2 = nn.LSTM(hidden_size, hidden_size, batch_first=True)       \n",
    "        self.dropout = nn.Dropout(p=0.2)  # Добавление слоя Dropout\n",
    "        self.fc = nn.Linear(hidden_size, num_classes)\n",
    "        \n",
    "    def forward(self, x):\n",
    "        embedded = self.embedding(x)\n",
    "        output, _ = self.lstm1(embedded)\n",
    "        output, _ = self.lstm2(output)\n",
    "        #output = self.dropout(output)  # Применение Dropout к выходу LSTM\n",
    "        #output = self.fc(output[:, -1, :])  # Используется только последний выход LSTM\n",
    "        \n",
    "        output = output[-1, :]  # Получение последнего выхода LSTM\n",
    "        output = self.fc(output)  # Применение полносвязного слоя\n",
    "        return output"
   ]
  },
  {
   "cell_type": "code",
   "execution_count": null,
   "id": "64552a79-1b90-41ba-953b-ea01549c6d5b",
   "metadata": {},
   "outputs": [],
   "source": []
  },
  {
   "cell_type": "code",
   "execution_count": null,
   "id": "a6c0215d-9e5c-43e9-9455-027fc564a6bd",
   "metadata": {},
   "outputs": [],
   "source": []
  },
  {
   "cell_type": "code",
   "execution_count": null,
   "id": "0c971e76-37ab-495b-b0ad-ac20927bc784",
   "metadata": {},
   "outputs": [],
   "source": []
  },
  {
   "cell_type": "code",
   "execution_count": 12,
   "id": "e7495ee7-790c-490a-8244-031117540782",
   "metadata": {
    "tags": []
   },
   "outputs": [],
   "source": [
    "input_size = 40000 \n",
    "hidden_size = 256\n",
    "num_classes = 8\n",
    "\n",
    "model = SentimentClassifier(input_size, hidden_size, num_classes).to('cpu')"
   ]
  },
  {
   "cell_type": "code",
   "execution_count": 13,
   "id": "af05edeb-c975-4044-b223-aaf55d2ebe9a",
   "metadata": {
    "tags": []
   },
   "outputs": [
    {
     "data": {
      "text/plain": [
       "SentimentClassifier(\n",
       "  (embedding): Embedding(40000, 256)\n",
       "  (lstm1): LSTM(256, 256, batch_first=True)\n",
       "  (lstm2): LSTM(256, 256, batch_first=True)\n",
       "  (dropout): Dropout(p=0.2, inplace=False)\n",
       "  (fc): Linear(in_features=256, out_features=8, bias=True)\n",
       ")"
      ]
     },
     "execution_count": 13,
     "metadata": {},
     "output_type": "execute_result"
    }
   ],
   "source": [
    "\n",
    "model.load_state_dict(torch.load('model_3.pth'))\n",
    "\n",
    "\n",
    "model.eval()"
   ]
  },
  {
   "cell_type": "code",
   "execution_count": 14,
   "id": "dc5a97c0-10b3-4e0a-83f5-3f04ee944947",
   "metadata": {
    "tags": []
   },
   "outputs": [],
   "source": [
    "text = 'This is easily the most underrated film inn the Brooks cannon. Sure, its flawed. It does not give a realistic view of homelessness (unlike, say, how Citizen Kane gave a realistic view of lounge singers, or Titanic gave a realistic view of Italians YOU IDIOTS). Many of the jokes fall flat. But still, this film is very lovable in a way many comedies are not, and to pull that off in a story about some of the most traditionally reviled members of society is truly impressive. Its not The Fisher King, but its not crap, either. My only complaint is that Brooks should have cast someone else in the lead (I love Mel as a Director and Writer, not so much as a lead).'"
   ]
  },
  {
   "cell_type": "code",
   "execution_count": 15,
   "id": "6e61e677-6a20-4843-b37b-848382db7f55",
   "metadata": {
    "tags": []
   },
   "outputs": [
    {
     "data": {
      "text/plain": [
       "'This is easily the most underrated film inn the Brooks cannon. Sure, its flawed. It does not give a realistic view of homelessness (unlike, say, how Citizen Kane gave a realistic view of lounge singers, or Titanic gave a realistic view of Italians YOU IDIOTS). Many of the jokes fall flat. But still, this film is very lovable in a way many comedies are not, and to pull that off in a story about some of the most traditionally reviled members of society is truly impressive. Its not The Fisher King, but its not crap, either. My only complaint is that Brooks should have cast someone else in the lead (I love Mel as a Director and Writer, not so much as a lead).'"
      ]
     },
     "execution_count": 15,
     "metadata": {},
     "output_type": "execute_result"
    }
   ],
   "source": [
    "text"
   ]
  },
  {
   "cell_type": "code",
   "execution_count": 16,
   "id": "4315efbf-1e51-491d-a1f6-464680c8e259",
   "metadata": {
    "tags": []
   },
   "outputs": [],
   "source": [
    "\n",
    "text2 = transform_text(text)"
   ]
  },
  {
   "cell_type": "code",
   "execution_count": 17,
   "id": "70c06d35-a7f4-4198-b77a-0dad6cb9a0b4",
   "metadata": {
    "tags": []
   },
   "outputs": [
    {
     "data": {
      "text/plain": [
       "torch.Tensor"
      ]
     },
     "execution_count": 17,
     "metadata": {},
     "output_type": "execute_result"
    }
   ],
   "source": [
    "type(text2)"
   ]
  },
  {
   "cell_type": "code",
   "execution_count": 18,
   "id": "da46f84a-bf1c-425f-9f02-161fb6f651dc",
   "metadata": {
    "tags": []
   },
   "outputs": [],
   "source": [
    "output = model(text2)"
   ]
  },
  {
   "cell_type": "code",
   "execution_count": 19,
   "id": "bc31099c-52b0-4021-a174-5d3cc568ab4e",
   "metadata": {
    "tags": []
   },
   "outputs": [
    {
     "data": {
      "text/plain": [
       "tensor([-4.4222, -4.8097, -0.0797, -0.7776, 13.5095, -1.8159, -4.3296, -1.9749],\n",
       "       grad_fn=<AddBackward0>)"
      ]
     },
     "execution_count": 19,
     "metadata": {},
     "output_type": "execute_result"
    }
   ],
   "source": [
    "output"
   ]
  },
  {
   "cell_type": "code",
   "execution_count": 20,
   "id": "dfacfa29-5c5a-4f77-9ea4-e626034d6113",
   "metadata": {
    "tags": []
   },
   "outputs": [],
   "source": [
    "import torch.nn.functional as F"
   ]
  },
  {
   "cell_type": "code",
   "execution_count": 21,
   "id": "ae9b9bbe-ca9c-41ec-96d6-98316cb1bfdc",
   "metadata": {
    "tags": []
   },
   "outputs": [
    {
     "name": "stdout",
     "output_type": "stream",
     "text": [
      "4\n"
     ]
    }
   ],
   "source": [
    "probs = F.softmax(output, dim=0)\n",
    "predicted_class = torch.argmax(probs, dim=0)\n",
    "\n",
    "print(predicted_class.item())"
   ]
  },
  {
   "cell_type": "code",
   "execution_count": null,
   "id": "33c9a638-2f4a-4b5f-8116-1c817a5df077",
   "metadata": {},
   "outputs": [],
   "source": []
  },
  {
   "cell_type": "code",
   "execution_count": null,
   "id": "2530fd36-559e-4293-aa4e-343f6bad60a0",
   "metadata": {},
   "outputs": [],
   "source": []
  },
  {
   "cell_type": "code",
   "execution_count": null,
   "id": "68e85e5b-df78-49c5-8ca0-35f6a0f3719d",
   "metadata": {},
   "outputs": [],
   "source": []
  }
 ],
 "metadata": {
  "kernelspec": {
   "display_name": "Python 3 (ipykernel)",
   "language": "python",
   "name": "python3"
  },
  "language_info": {
   "codemirror_mode": {
    "name": "ipython",
    "version": 3
   },
   "file_extension": ".py",
   "mimetype": "text/x-python",
   "name": "python",
   "nbconvert_exporter": "python",
   "pygments_lexer": "ipython3",
   "version": "3.10.11"
  }
 },
 "nbformat": 4,
 "nbformat_minor": 5
}
