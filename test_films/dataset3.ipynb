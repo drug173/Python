{
 "cells": [
  {
   "cell_type": "code",
   "execution_count": 1,
   "id": "07ff4d69-497a-4877-ac80-df8dea0b4d3b",
   "metadata": {
    "tags": []
   },
   "outputs": [],
   "source": [
    "import os\n",
    "os.environ[\"TORCH_USE_CUDA_DSA\"] = \"1\"\n",
    "# отключение предупреждения\n",
    "\n",
    "#os.environ[\"HF_HUB_DISABLE_SYMLINKS_WARNING\"] = \"1\"\n",
    "os.environ['CUDA_LAUNCH_BLOCKING'] = '1'\n",
    "\n",
    "\n",
    "import torch\n",
    "import torch.nn as nn\n",
    "import torch.optim as optim\n",
    "from transformers import BertTokenizer, BertForSequenceClassification\n",
    "from torch.utils.data import Dataset, DataLoader\n",
    "from sklearn.model_selection import KFold"
   ]
  },
  {
   "cell_type": "code",
   "execution_count": 2,
   "id": "68fec7ad-6b6c-4e7d-85e0-79342d4704b0",
   "metadata": {
    "tags": []
   },
   "outputs": [],
   "source": [
    "import os \n",
    "import pathlib \n",
    "import numpy as np\n",
    "from glob import glob\n",
    "\n",
    "import shutil\n",
    "import random"
   ]
  },
  {
   "cell_type": "code",
   "execution_count": 3,
   "id": "959434c9-3024-4a8c-bd36-1537d6e96641",
   "metadata": {
    "tags": []
   },
   "outputs": [
    {
     "name": "stdout",
     "output_type": "stream",
     "text": [
      "True\n",
      "работаем на устройстве:  cuda\n",
      "Версия torch:            2.0.1+cu118\n",
      "версия  cuDNN:           8700\n"
     ]
    }
   ],
   "source": [
    "print(torch.cuda.is_available())\n",
    "device = torch.device(\"cuda\" if torch.cuda.is_available() else \"cpu\")\n",
    "\n",
    "if torch.cuda.is_available():\n",
    "    DEVICE = torch.device(\"cuda\")\n",
    "else:\n",
    "    DEVICE = torch.device(\"cpu\")\n",
    "print(\"работаем на устройстве: \", DEVICE)\n",
    "print('Версия torch:           ', torch.__version__)\n",
    "print(\"версия  cuDNN:          \", torch.backends.cudnn.version())"
   ]
  },
  {
   "cell_type": "code",
   "execution_count": 4,
   "id": "cbee3b7e-b26b-4954-ab98-f9689b435ce1",
   "metadata": {
    "tags": []
   },
   "outputs": [
    {
     "data": {
      "text/plain": [
       "'C:\\\\Users\\\\drug1\\\\Anaconda\\\\films'"
      ]
     },
     "execution_count": 4,
     "metadata": {},
     "output_type": "execute_result"
    }
   ],
   "source": [
    "# Текущее положение\n",
    "path_1 = os.getcwd()\n",
    "path_1"
   ]
  },
  {
   "cell_type": "code",
   "execution_count": 5,
   "id": "f66edc3e-70cc-4548-b5dd-25296e27e1ba",
   "metadata": {
    "tags": []
   },
   "outputs": [],
   "source": [
    "# Пути к директориям с данными\n",
    "\n",
    "train_dir_1 = os.path.join(path_1, 'dataset2\\\\train\\\\')\n",
    "test_dir_1 = os.path.join(path_1, 'dataset2\\\\test\\\\')\n",
    "\n",
    "train_dir_2 = os.path.join(path_1, 'dataset3\\\\train\\\\')\n",
    "\n",
    "test_dir_3 = os.path.join(path_1, 'dataset_new\\\\')"
   ]
  },
  {
   "cell_type": "code",
   "execution_count": 6,
   "id": "83ad8a41-b13c-47a8-a857-e4a8131ba03b",
   "metadata": {
    "tags": []
   },
   "outputs": [],
   "source": [
    "# Расположение файла для кодировки слов\n",
    "path_vocab = 'C:\\\\Users\\\\drug1\\\\Anaconda\\\\Keras\\\\films\\\\imdb.vocab'"
   ]
  },
  {
   "cell_type": "code",
   "execution_count": null,
   "id": "697f086f-64ee-4412-844b-ee07c9c2a19f",
   "metadata": {},
   "outputs": [],
   "source": []
  },
  {
   "cell_type": "code",
   "execution_count": 7,
   "id": "525fad98-e957-4d35-aec2-dca4718893bb",
   "metadata": {
    "tags": []
   },
   "outputs": [],
   "source": [
    "import torch\n",
    "import torch.nn as nn\n",
    "import torch.optim as optim\n",
    "from torch.utils.data import DataLoader, Dataset\n",
    "import torchvision.transforms as transforms\n"
   ]
  },
  {
   "cell_type": "code",
   "execution_count": 7,
   "id": "c698f1a7-96d6-4786-ba2f-c287e0df5cdd",
   "metadata": {
    "tags": []
   },
   "outputs": [],
   "source": [
    "# Загрузка данных\n",
    "train_directory_1 = train_dir_1\n",
    "train_directory_2 = train_dir_2\n",
    "\n",
    "test_directory_3 = test_dir_3"
   ]
  },
  {
   "cell_type": "code",
   "execution_count": 9,
   "id": "253cfa4d-f3d2-44a9-a045-38c9ea7066a6",
   "metadata": {
    "tags": []
   },
   "outputs": [],
   "source": [
    "# Подготовка тренировочного набора\n",
    "train_data_1 = []\n",
    "train_labels_1 = []\n",
    "\n",
    "for folder in os.listdir(train_directory_1):\n",
    "    folder_path = os.path.join(train_directory_1, folder)\n",
    "    if os.path.isdir(folder_path):\n",
    "        for file in os.listdir(folder_path):\n",
    "            file_path = os.path.join(folder_path, file)\n",
    "            with open(file_path, 'r', encoding='utf-8') as f:\n",
    "                review = f.read()\n",
    "                train_data_1.append(review)\n",
    "                train_labels_1.append(int(folder))"
   ]
  },
  {
   "cell_type": "code",
   "execution_count": 10,
   "id": "8d1a0be1-ba90-43d9-9daa-cc3d0fe3f714",
   "metadata": {
    "tags": []
   },
   "outputs": [],
   "source": [
    "# Подготовка тренировочного набора\n",
    "train_data_2 = []\n",
    "train_labels_2 = []\n",
    "\n",
    "for folder in os.listdir(train_directory_2):\n",
    "    folder_path = os.path.join(train_directory_2, folder)\n",
    "    if os.path.isdir(folder_path):\n",
    "        for file in os.listdir(folder_path):\n",
    "            file_path = os.path.join(folder_path, file)\n",
    "            with open(file_path, 'r', encoding='utf-8') as f:\n",
    "                review = f.read()\n",
    "                train_data_2.append(review)\n",
    "                train_labels_2.append(int(folder))"
   ]
  },
  {
   "cell_type": "code",
   "execution_count": 8,
   "id": "b9db91d9-c99b-4070-b804-078174acbf5c",
   "metadata": {
    "tags": []
   },
   "outputs": [],
   "source": [
    "# Подготовка тестового набора\n",
    "test_data_1 = []\n",
    "test_labels_1 = []\n",
    "\n",
    "for folder in os.listdir(test_directory_3):\n",
    "    folder_path = os.path.join(test_directory_3, folder)\n",
    "    if os.path.isdir(folder_path):\n",
    "        for file in os.listdir(folder_path):\n",
    "            file_path = os.path.join(folder_path, file)\n",
    "            with open(file_path, 'r', encoding='utf-8') as f:\n",
    "                review = f.read()\n",
    "                test_data_1.append(review)\n",
    "                test_labels_1.append(int(folder))"
   ]
  },
  {
   "cell_type": "code",
   "execution_count": 10,
   "id": "eff9b84e-1edc-4d33-ba21-25986691454e",
   "metadata": {
    "tags": []
   },
   "outputs": [
    {
     "data": {
      "text/plain": [
       "50000"
      ]
     },
     "execution_count": 10,
     "metadata": {},
     "output_type": "execute_result"
    }
   ],
   "source": [
    "len(test_data_1)"
   ]
  },
  {
   "cell_type": "code",
   "execution_count": 12,
   "id": "ab471b0c-6305-43ea-a304-17bebe98046f",
   "metadata": {
    "tags": []
   },
   "outputs": [
    {
     "data": {
      "text/plain": [
       "50000"
      ]
     },
     "execution_count": 12,
     "metadata": {},
     "output_type": "execute_result"
    }
   ],
   "source": [
    "len(test_labels_1)"
   ]
  },
  {
   "cell_type": "code",
   "execution_count": null,
   "id": "272d91eb-905c-4e76-a2b3-2531363300f0",
   "metadata": {},
   "outputs": [],
   "source": []
  },
  {
   "cell_type": "code",
   "execution_count": 13,
   "id": "9702682c-c953-40ff-9162-e4e7984e133a",
   "metadata": {
    "tags": []
   },
   "outputs": [],
   "source": [
    "# функция загрузки словаря для кодировки слов из файла\n",
    "def vocab_read():\n",
    "    with open(path_vocab, \"r\") as f1:\n",
    "        line = f1.read().splitlines()\n",
    "    return line"
   ]
  },
  {
   "cell_type": "code",
   "execution_count": 14,
   "id": "ad88d998-e1d2-40c7-8247-3ef8ee805ea8",
   "metadata": {
    "tags": []
   },
   "outputs": [
    {
     "name": "stdout",
     "output_type": "stream",
     "text": [
      "['the', 'and', 'a', 'of', 'to', 'is', 'it', 'in', 'i', 'this']\n",
      "89527\n",
      "39998\n"
     ]
    }
   ],
   "source": [
    "# загрузка словаря и просмотр первых 10 слов\n",
    "vocab = vocab_read()\n",
    "print(vocab[:10])\n",
    "n =len(vocab)\n",
    "print(n)\n",
    "vocab = vocab[:39998]\n",
    "print(len(vocab))"
   ]
  },
  {
   "cell_type": "code",
   "execution_count": 15,
   "id": "c9e71add-9a7c-4b67-bb42-93e50c948158",
   "metadata": {
    "tags": []
   },
   "outputs": [],
   "source": [
    "# Параметры модели и тренировки\n",
    "input_size = len(vocab) + 2  # Предполагаемый размер словаря (число уникальных слов)\n",
    "\n",
    "hidden_size = 128\n",
    "num_classes = 8  # Два класса: положительный и отрицательный отзыв\n",
    "num_epochs = 10\n",
    "batch_size = 32\n",
    "learning_rate = 0.001\n",
    "\n",
    "len_text = 280  # длина текста (клоичество слов) используемая для оценки \n",
    "\n",
    "\n",
    "# Определение числа фолдов\n",
    "k_folds = 5"
   ]
  },
  {
   "cell_type": "code",
   "execution_count": 16,
   "id": "a45810ef-de76-4e5f-8010-10a639f9d479",
   "metadata": {
    "tags": []
   },
   "outputs": [
    {
     "name": "stdout",
     "output_type": "stream",
     "text": [
      "39998\n"
     ]
    },
    {
     "data": {
      "text/plain": [
       "40000"
      ]
     },
     "execution_count": 16,
     "metadata": {},
     "output_type": "execute_result"
    }
   ],
   "source": [
    "print(len(vocab))\n",
    "input_size"
   ]
  },
  {
   "cell_type": "code",
   "execution_count": null,
   "id": "05337601-bf87-4296-9b1e-7626403913a0",
   "metadata": {
    "tags": []
   },
   "outputs": [],
   "source": []
  },
  {
   "cell_type": "code",
   "execution_count": 17,
   "id": "d32a3bec-645e-4185-af82-84350bb14d1f",
   "metadata": {
    "tags": []
   },
   "outputs": [
    {
     "name": "stdout",
     "output_type": "stream",
     "text": [
      "[0, 1, 2, 3, 4, 5, 6, 7, 8, 9, 10, 11]\n"
     ]
    }
   ],
   "source": [
    "list_1 = list(range(12))\n",
    "print(list_1)"
   ]
  },
  {
   "cell_type": "code",
   "execution_count": 18,
   "id": "d8ff2079-4e6f-4540-9abd-121cdcad0f78",
   "metadata": {
    "tags": []
   },
   "outputs": [],
   "source": [
    "# функция преобразования текста в числа\n",
    "\n",
    "def transform_text(text1, vocab=vocab, len_text=len_text, rand=False):\n",
    "    mass = [] \n",
    "    str1 =''    \n",
    "    for ch in text1:\n",
    "        if len(mass)>len_text-1: # если слов больше чем нужно, выходим\n",
    "            return mass\n",
    "        if ch !=' ':\n",
    "            str1 = str1 + ch\n",
    "        if ch ==' ':\n",
    "            if str1 !='':                      \n",
    "                fl = False                                                            \n",
    "                for i in range(len(vocab)):\n",
    "                    if str1.lower() == vocab[i].lower():\n",
    "                        fl = True\n",
    "                        random_choice = random.choice(list_1)\n",
    "                        if rand==True:\n",
    "                            if random_choice == 0:\n",
    "                                mass.append(1)  #  РАНДОМНО заполняем единицей\n",
    "                                break\n",
    "                        mass.append(i+2)\n",
    "                        str1 =''\n",
    "                        break                                                 \n",
    "                if fl == False: #  если слово не найдено, заменяем нулями\n",
    "                    mass.append(0)\n",
    "                    str1 =''        \n",
    "    for i in range(len(vocab)): # Проверяем последнее слово\n",
    "        if str1.lower() == vocab[i].lower():\n",
    "            fl = True\n",
    "            mass.append(i+2)\n",
    "            str1 =''\n",
    "            break                                                 \n",
    "    if fl == False: #  если слово не найдено, заменяем нулями\n",
    "        mass.append(0)\n",
    "        str1 =''\n",
    "\n",
    "    if len(mass)<len_text:  #  если слов меньше чем нужно, добавляем нулями.\n",
    "        while len(mass)<len_text:\n",
    "            mass.insert(0, 0)\n",
    "            str1 =''        \n",
    "        \n",
    "    return mass"
   ]
  },
  {
   "cell_type": "code",
   "execution_count": null,
   "id": "08146594-8a69-4b01-aa4a-fbfa940607df",
   "metadata": {},
   "outputs": [],
   "source": []
  },
  {
   "cell_type": "code",
   "execution_count": 23,
   "id": "fd016a29-ad07-418c-99e1-69a800b956be",
   "metadata": {
    "tags": []
   },
   "outputs": [],
   "source": [
    "def rating(num):\n",
    "    text_example = transform_text(test_data_1[num], vocab, 15)\n",
    "    print(text_example)\n",
    "    text_example1 = test_data_1[num]\n",
    "    print(text_example1[:150])\n",
    "    print('РЕЙТИНГ ФИЛЬМА: ', test_labels_1[num])"
   ]
  },
  {
   "cell_type": "code",
   "execution_count": 30,
   "id": "9c320bda-20dc-4d05-b473-95af6d90f8cd",
   "metadata": {
    "tags": []
   },
   "outputs": [
    {
     "name": "stdout",
     "output_type": "stream",
     "text": [
      "[10, 423, 82, 11, 17, 978, 4, 0, 406, 43, 87, 6, 27, 3152, 9]\n",
      "I went into this movie expecting a thoughtfull piece about how to be accepted in culture and I wound up blowing $8.50 on a 10 minute fart joke and a w\n",
      "РЕЙТИНГ ФИЛЬМА:  3\n"
     ]
    }
   ],
   "source": [
    "rating(20000)"
   ]
  },
  {
   "cell_type": "code",
   "execution_count": 31,
   "id": "6053f68a-dfe2-480a-903a-fd505a3b2057",
   "metadata": {
    "tags": []
   },
   "outputs": [],
   "source": [
    "txt = 'the end and and fgh I the open the open end'"
   ]
  },
  {
   "cell_type": "code",
   "execution_count": 32,
   "id": "cbe79b77-c975-41d3-9330-93928e0511fc",
   "metadata": {
    "tags": []
   },
   "outputs": [
    {
     "data": {
      "text/plain": [
       "[0, 0, 0, 0, 2, 129, 3, 3, 0, 10, 2, 940, 2, 940, 129]"
      ]
     },
     "execution_count": 32,
     "metadata": {},
     "output_type": "execute_result"
    }
   ],
   "source": [
    "text_example = transform_text(txt, vocab, 15)\n",
    "text_example"
   ]
  },
  {
   "cell_type": "code",
   "execution_count": 33,
   "id": "7ea71ea9-e10f-41f8-9a0d-5e80af54efbd",
   "metadata": {},
   "outputs": [
    {
     "data": {
      "text/plain": [
       "[10, 423, 82, 11, 17, 978, 4, 0, 406, 43, 87, 6, 27, 3152, 9]"
      ]
     },
     "execution_count": 33,
     "metadata": {},
     "output_type": "execute_result"
    }
   ],
   "source": [
    "text_example = transform_text(test_data_1[20000], vocab, 15)\n",
    "text_example"
   ]
  },
  {
   "cell_type": "code",
   "execution_count": 34,
   "id": "3cfc712f-ff56-4946-8c41-e9e9a19e37fd",
   "metadata": {
    "tags": []
   },
   "outputs": [
    {
     "data": {
      "text/plain": [
       "\"I went into this movie expecting a thoughtfull piece about how to be accepted in culture and I wound up blowing $8.50 on a 10 minute fart joke and a whole bunch of fake accents. Sorry, Jeff, but if you're going for the whole cult thing, you gotta a while to go.\""
      ]
     },
     "execution_count": 34,
     "metadata": {},
     "output_type": "execute_result"
    }
   ],
   "source": [
    "test_data_1[20000]"
   ]
  },
  {
   "cell_type": "code",
   "execution_count": 35,
   "id": "d6c1dfbe-a3d8-42c2-a6c0-e1b91ba189dc",
   "metadata": {
    "tags": []
   },
   "outputs": [],
   "source": [
    " data_tensor = torch.tensor(text_example)"
   ]
  },
  {
   "cell_type": "code",
   "execution_count": 36,
   "id": "bddf1856-520d-4e92-bb9d-e413b3deb3c6",
   "metadata": {
    "tags": []
   },
   "outputs": [
    {
     "data": {
      "text/plain": [
       "tensor([  10,  423,   82,   11,   17,  978,    4,    0,  406,   43,   87,    6,\n",
       "          27, 3152,    9])"
      ]
     },
     "execution_count": 36,
     "metadata": {},
     "output_type": "execute_result"
    }
   ],
   "source": [
    "data_tensor"
   ]
  },
  {
   "cell_type": "code",
   "execution_count": 37,
   "id": "bed83c74-f62c-4562-b5fb-a5e3c3dcdf28",
   "metadata": {
    "tags": []
   },
   "outputs": [],
   "source": [
    "def preprocess_data(data, labels):\n",
    "    processed_data = []\n",
    "    \n",
    "    for text1 in data:  \n",
    "        text_list = transform_text(text1)\n",
    "        processed_data.append(text_list)\n",
    "\n",
    "    data_tensor = torch.tensor(processed_data)\n",
    "    labels_tensor = torch.tensor(labels)\n",
    "    return data_tensor, labels_tensor"
   ]
  },
  {
   "cell_type": "code",
   "execution_count": 38,
   "id": "1646c9fb-21d2-4e34-b37d-678f705f92bd",
   "metadata": {
    "tags": []
   },
   "outputs": [
    {
     "name": "stdout",
     "output_type": "stream",
     "text": [
      "[1, 2, 3, 4, 5, 6]\n"
     ]
    }
   ],
   "source": [
    "list1 = [1, 2, 3]\n",
    "list2 = [4, 5, 6]\n",
    "\n",
    "list1 += list2\n",
    "print(list1)"
   ]
  },
  {
   "cell_type": "code",
   "execution_count": null,
   "id": "5a2f8a30-8a63-48ef-ab21-18a8bbb57528",
   "metadata": {},
   "outputs": [],
   "source": []
  },
  {
   "cell_type": "code",
   "execution_count": 39,
   "id": "2a95189c-4f22-4ef9-aa59-7d737119b86b",
   "metadata": {
    "tags": []
   },
   "outputs": [],
   "source": [
    "def preprocess_1(data_1, labels_1, data_2, labels_2):\n",
    "    processed_data = []\n",
    "    labels = []\n",
    "    \n",
    "    for text1 in data_1:  \n",
    "        text_list = transform_text(text1)\n",
    "        processed_data.append(text_list)      \n",
    "    labels +=  labels_1  \n",
    "    \n",
    "    for text1 in data_2:  \n",
    "        text_list = transform_text(text1, rand=True)\n",
    "        processed_data.append(text_list)      \n",
    "    labels +=  labels_2  \n",
    "\n",
    "    data_tensor = torch.tensor(processed_data)\n",
    "    labels_tensor = torch.tensor(labels)\n",
    "    return data_tensor, labels_tensor\n",
    "    \n",
    "    \n",
    "    \n",
    "    "
   ]
  },
  {
   "cell_type": "code",
   "execution_count": null,
   "id": "db06d4e6-4935-43ee-a00f-46b1d66163ba",
   "metadata": {},
   "outputs": [],
   "source": []
  },
  {
   "cell_type": "code",
   "execution_count": 40,
   "id": "bbbf759d-4742-4d53-88e8-d78dcf422fa8",
   "metadata": {
    "tags": []
   },
   "outputs": [],
   "source": [
    "def rating_test(num):\n",
    "    \n",
    "    text_example = transform_text(test_data[num], vocab, 15)\n",
    "    print(text_example)\n",
    "    text_example1 = test_data[num]\n",
    "    print(text_example1[:150])\n",
    "    print('РЕЙТИНГ ФИЛЬМА: ', test_labels[num])\n",
    "    \n",
    "    print('Новые значения ')\n",
    "    print(test_data_tensor[num][:15])\n",
    "    print(test_labels_tensor[num])"
   ]
  },
  {
   "cell_type": "code",
   "execution_count": null,
   "id": "8c28df4c-ade6-449e-b7f5-673a4fa46785",
   "metadata": {},
   "outputs": [],
   "source": []
  },
  {
   "cell_type": "code",
   "execution_count": null,
   "id": "5b4b4336-6eb3-4111-aba8-6a8dd2587ba7",
   "metadata": {},
   "outputs": [],
   "source": [
    "import matplotlib.pyplot as plt\n",
    "\n",
    "def train_model(model, train_loader, val_loader, num_epochs=5, save_model_path='model_1.pth'):\n",
    "    train_losses = []  # Список для сохранения значений функции потерь на тренировочном наборе\n",
    "    val_losses = []  # Список для сохранения значений функции потерь на валидационном наборе\n",
    "    train_accuracies = []  # Список для сохранения значений точности на тренировочном наборе\n",
    "    val_accuracies = []  # Список для сохранения значений точности на валидационном наборе\n",
    "\n",
    "    best_val_accuracy = 0\n",
    "\n",
    "    for epoch in range(num_epochs):\n",
    "        # Обучение модели...\n",
    "\n",
    "        # Вычисление точности и потерь на тренировочном и валидационном наборах\n",
    "        train_accuracy, train_loss = compute_accuracy_and_loss(model, train_loader, criterion)\n",
    "        val_accuracy, val_loss = compute_accuracy_and_loss(model, val_loader, criterion)\n",
    "\n",
    "        # Сохранение значений точности и потерь\n",
    "        train_losses.append(train_loss)\n",
    "        val_losses.append(val_loss)\n",
    "        train_accuracies.append(train_accuracy)\n",
    "        val_accuracies.append(val_accuracy)\n",
    "\n",
    "        print(f\"Epoch {epoch + 1}/{num_epochs} | \"\n",
    "              f\"Train Loss: {train_loss:.4f} | Train Accuracy: {train_accuracy:.4f} | \"\n",
    "              f\"Val Loss: {val_loss:.4f} | Val Accuracy: {val_accuracy:.4f}\")\n",
    "\n",
    "        # Проверка, является ли текущая модель лучшей\n",
    "        if val_accuracy > best_val_accuracy:\n",
    "            best_val_accuracy = val_accuracy\n",
    "            # Сохранение модели\n",
    "            torch.save(model.state_dict(), save_model_path)\n",
    "\n",
    "    # Построение графиков точности и потерь\n",
    "    plt.figure(figsize=(10, 4))\n",
    "    plt.subplot(1, 2, 1)\n",
    "    plt.plot(train_losses, label='Train Loss')\n",
    "    plt.plot(val_losses, label='Val Loss')\n",
    "    plt.xlabel('Epoch')\n",
    "    plt.ylabel('Loss')\n",
    "    plt.legend()\n",
    "\n",
    "    plt.subplot(1, 2, 2)\n",
    "    plt.plot(train_accuracies, label='Train Accuracy')\n",
    "    plt.plot(val_accuracies, label='Val Accuracy')\n",
    "    plt.xlabel('Epoch')\n",
    "    plt.ylabel('Accuracy')\n",
    "    plt.legend()\n",
    "\n",
    "    plt.tight_layout()\n",
    "    plt.show()\n",
    "\n",
    "# Функция для вычисления точности и потерь\n",
    "def compute_accuracy_and_loss(model, data_loader, criterion):\n",
    "    model.eval()\n",
    "    total_loss = 0\n",
    "    total_correct = 0\n",
    "    total_samples = 0\n",
    "\n",
    "    with torch.no_grad():\n",
    "        for inputs, labels in data_loader:\n",
    "            inputs = inputs.to(device)\n",
    "            labels = labels.to(device)\n",
    "\n",
    "            outputs = model(inputs)\n",
    "            loss = criterion(outputs, labels)\n",
    "\n",
    "            _, predicted = torch.max(outputs.data, 1)\n",
    "            total_correct += (predicted == labels).sum().item()\n",
    "            total_samples += labels.size(0)\n",
    "\n",
    "            total_loss += loss.item()\n",
    "\n",
    "    accuracy = total_correct / total_samples\n",
    "    loss = total_loss / len(data_loader)\n",
    "\n",
    "    return accuracy, loss\n"
   ]
  },
  {
   "cell_type": "code",
   "execution_count": null,
   "id": "f0ffac5c-77e7-4a90-b65a-984c2c309333",
   "metadata": {},
   "outputs": [],
   "source": []
  },
  {
   "cell_type": "code",
   "execution_count": null,
   "id": "105dbc0f-c589-4c7f-9e1d-82e5e9b95283",
   "metadata": {},
   "outputs": [],
   "source": []
  },
  {
   "cell_type": "code",
   "execution_count": null,
   "id": "8e37f682-060c-496f-a61b-e198af302275",
   "metadata": {},
   "outputs": [],
   "source": []
  },
  {
   "cell_type": "code",
   "execution_count": null,
   "id": "604209df-d0fc-4540-afb3-2125d35215a7",
   "metadata": {},
   "outputs": [],
   "source": []
  },
  {
   "cell_type": "code",
   "execution_count": 41,
   "id": "40ee4840-13fc-4bea-afc4-b2a88905ee0a",
   "metadata": {},
   "outputs": [],
   "source": [
    "def rating_train(num):\n",
    "    \n",
    "    text_example = transform_text(train_data[num], vocab, 15)\n",
    "    print(text_example)\n",
    "    text_example1 = train_data[num]\n",
    "    print(text_example1[:150])\n",
    "    print('РЕЙТИНГ ФИЛЬМА: ', train_labels[num])\n",
    "    \n",
    "    print('Новые значения ')\n",
    "    print(train_data_tensor[num][:15])\n",
    "    print(train_labels_tensor[num])"
   ]
  },
  {
   "cell_type": "code",
   "execution_count": 42,
   "id": "3298d8db-c5a7-4eac-9923-e4e061df1726",
   "metadata": {
    "tags": []
   },
   "outputs": [],
   "source": [
    "test_data1, test_labels1 = preprocess_data(test_data_1, test_labels_1)\n",
    "\n",
    "\n"
   ]
  },
  {
   "cell_type": "code",
   "execution_count": 43,
   "id": "d89a0ebb-685b-4121-8cf3-4c3ed79a4f09",
   "metadata": {
    "tags": []
   },
   "outputs": [],
   "source": [
    "torch.save(test_data1, 'test_data4.pt')\n",
    "torch.save(test_labels1, 'test_labels4.pt')"
   ]
  },
  {
   "cell_type": "code",
   "execution_count": null,
   "id": "6bfdec1a-c18b-40c9-9c42-2ced1c145310",
   "metadata": {},
   "outputs": [],
   "source": [
    "\n"
   ]
  },
  {
   "cell_type": "code",
   "execution_count": null,
   "id": "bcc6e1b6-dcbf-4039-a23c-3b86c53cc547",
   "metadata": {},
   "outputs": [],
   "source": []
  },
  {
   "cell_type": "code",
   "execution_count": null,
   "id": "192fac8b-5de2-45cd-8dd4-e816c3aeee93",
   "metadata": {},
   "outputs": [],
   "source": []
  },
  {
   "cell_type": "code",
   "execution_count": null,
   "id": "dcb7e6ba-5745-4c1f-b2b8-3e84c54b0502",
   "metadata": {},
   "outputs": [],
   "source": []
  },
  {
   "cell_type": "code",
   "execution_count": 58,
   "id": "3f5ae7e5-ec30-4b77-9019-b6480c7b0a74",
   "metadata": {
    "tags": []
   },
   "outputs": [],
   "source": [
    "train_data1, train_labels1 = preprocess_1(train_data_1, train_labels_1, train_data_2, train_labels_2)\n",
    "\n",
    "torch.save(train_data1, 'train_data3.pt')\n",
    "torch.save(train_labels1, 'train_labels3.pt')"
   ]
  },
  {
   "cell_type": "code",
   "execution_count": 59,
   "id": "e4191edc-c766-420d-b8d8-49896ef1335c",
   "metadata": {
    "tags": []
   },
   "outputs": [],
   "source": [
    "train_data_tensor = torch.load('train_data3.pt')\n",
    "train_labels_tensor = torch.load('train_labels3.pt')"
   ]
  },
  {
   "cell_type": "code",
   "execution_count": 60,
   "id": "8457d1fd-6960-45b1-92f6-68b64e24e09c",
   "metadata": {
    "tags": []
   },
   "outputs": [
    {
     "data": {
      "text/plain": [
       "65200"
      ]
     },
     "execution_count": 60,
     "metadata": {},
     "output_type": "execute_result"
    }
   ],
   "source": [
    "len(train_data_tensor)"
   ]
  },
  {
   "cell_type": "code",
   "execution_count": 61,
   "id": "6fc8a3f2-71a1-4268-8bb2-74e295136789",
   "metadata": {
    "tags": []
   },
   "outputs": [
    {
     "data": {
      "text/plain": [
       "65200"
      ]
     },
     "execution_count": 61,
     "metadata": {},
     "output_type": "execute_result"
    }
   ],
   "source": [
    "len(train_labels_tensor)"
   ]
  },
  {
   "cell_type": "code",
   "execution_count": 62,
   "id": "8ce9705e-40bc-4de2-a01b-0bb421ebff73",
   "metadata": {
    "tags": []
   },
   "outputs": [
    {
     "name": "stdout",
     "output_type": "stream",
     "text": [
      "tensor([   0,    0,    0,    0,    0,    0,    0,    0,    0,    0,    0,    0,\n",
      "           0,    0,    0,    0,    0,    0,    0,    0,    0,    0,    0,    0,\n",
      "           0,    0,    0,    0,    0,    0,    0,    0,    0,    0,    0,    0,\n",
      "           0,    0,    0,    0,    0,    0,    0,    0,    0,    0,    0,    0,\n",
      "           0,    0,    0,    0,    0,    0,    0,    0,    0,    0,    0,    0,\n",
      "           0,    0,    0,    0,    0,    0,    0,    0,    0,    0,    0,    0,\n",
      "           0,    0,    0,    0,    0,    0,    0,    0,    0,    0,    0,    0,\n",
      "           0,    0,    0,    0,    0,    0,    0,    0,    0,    0,    0,    0,\n",
      "           0,    0,    0,    0,    0,    0,    0,    0,    0,    0,    0,    0,\n",
      "           0,    0,    0,    0,    0,    0,    0,    0,    0,    0,    0,    0,\n",
      "           0,    0,    0,    0,    0,    0,    0,    0,    0,    0,    0,    0,\n",
      "           0,    0,    0,    0,    0,    0,    0,    0,    0,    0,    0,    0,\n",
      "           0,    0,    0,    0,    0,    0,    0,    0,    0,    0,    0,    0,\n",
      "           0,    0,    0,    0,    0,    0,    0,    0,    0,    0,    0,    0,\n",
      "           0,    0,    0,    0,    0,    0,    0,    0,    0,    0,    0,   11,\n",
      "           7,   33,  216,  281,   63,    5, 9841, 2980,    0,   34, 9946,    5,\n",
      "         110,   33,    0,   52,   23,    1,    0,  484,  353,    2,  573,    5,\n",
      "           0,   23,   13, 1480,    9, 1701,   93, 1621,    6, 3232,  115,   23,\n",
      "          13,    0,    1,    0,    3,   23, 4715,    0,    1,    0,    3,   23,\n",
      "        1043,    4,  265,   12,    0,    2,  675,    5, 3069,    2,  265,   13,\n",
      "           1,    0,    0,   18,   31,    2,  129,   23,  566,   25,  309,   12,\n",
      "          23,   13,   21,    4,  147,    0,    3,   53,   13,  463,   16,    8,\n",
      "           3,   23, 1091,   31,    2,  573,    5,    0,  107,  152,  100,   23,\n",
      "         423,  143,   82,    2])\n",
      "tensor(4)\n"
     ]
    }
   ],
   "source": [
    "print(train_data_tensor[50000])\n",
    "print(train_labels_tensor[50000])"
   ]
  },
  {
   "cell_type": "code",
   "execution_count": null,
   "id": "c4ba2265-eca5-4a6d-a93d-9d7d34af6ff0",
   "metadata": {},
   "outputs": [],
   "source": [
    "\n"
   ]
  },
  {
   "cell_type": "code",
   "execution_count": null,
   "id": "c5db0d2e-c06a-4f0f-8d6e-c3f4e8c9d25d",
   "metadata": {},
   "outputs": [],
   "source": []
  },
  {
   "cell_type": "code",
   "execution_count": 53,
   "id": "7e045a11-4af7-4611-baf9-a0c458c73b2a",
   "metadata": {},
   "outputs": [],
   "source": [
    "test_data_tensor = torch.load('test_data3.pt')\n",
    "test_labels_tensor = torch.load('test_labels3.pt')"
   ]
  },
  {
   "cell_type": "code",
   "execution_count": 57,
   "id": "dd6aad02-3223-4d95-9d43-217b28b7e2cf",
   "metadata": {
    "tags": []
   },
   "outputs": [
    {
     "name": "stdout",
     "output_type": "stream",
     "text": [
      "tensor([   0,    0,    0,    0,    0,    0,    0,    0,    0,    0,    0,    0,\n",
      "           0,    0,    0,    0,    0,    0,    0,    0,    0,    0,    0,    0,\n",
      "           0,    0,    0,    0,    0,    0,    0,    0,    0,    0,    0,    0,\n",
      "           0,    0,    0,    0,    0,    0,    0,    0,    0,    0,    0,    0,\n",
      "           0,    0,    0,    0,    0,    0,    0,    0,    0,    0,    0,    0,\n",
      "           0,    0,    0,    0,    0,    0,    0,    0,    0,    0,    0,    0,\n",
      "           0,    0,    0,    0,    0,    0,    0,    0,    0,    0,    0,    0,\n",
      "           0,    0,    0,    0,    0,    0,    0,    0,    0,    0,    0,    0,\n",
      "           0,    0,    0,    0,    0,    0,    0,    0,    0,    0,    0,    0,\n",
      "           0,    0,    0,    0,    0,    0,    0,    0,    0,    0,    0,    0,\n",
      "           0,   10,  187,  161,  102,    5,   28,   50,  213,    9,   11,    0,\n",
      "           2,   63,    7,  413,    0,    2,  111,    7,   14, 4407,   14,    4,\n",
      "           0,    3,    2,  223,    7,   37,   79,    8,  163,   22,  178,    6,\n",
      "         496,    0,  585,  463,   44,   22,  116,    0,   22,   26,    6,  116,\n",
      "           8,    6,    0,    0,   22,  230,  344,    8,    0,    0,   14,    8,\n",
      "          45, 1032, 3861,    3,   49,  633, 1069,   18,  936,   36,   12,    8,\n",
      "           7,    0,    8,   45,   49,  413,  365,  966,    3,    8,    7, 2709,\n",
      "          16,  192,  322,    3,  443,   77, 3436,  247,  385,    0,    2,   62,\n",
      "          59,   22,   78,  464,    7,   52,   22,   24, 1071,   31,    2, 2921,\n",
      "          41,   22,   24,  528, 2848,   15,    2,    0,   10,   26,  109,    4,\n",
      "         171,    5,  106,    3,   10,   26,    6,  133,   12,   11,    7,    2,\n",
      "         242,   19,   10,   26,  123,    0,   44,   22,   26,   11,   19,   10,\n",
      "          60, 1411,   22,  190,    8,  143,    6, 7753,   22, 1203,    8,   36,\n",
      "           3,   76,   22,  269])\n",
      "tensor(0)\n"
     ]
    }
   ],
   "source": [
    "\n",
    "print(test_data_tensor[10])\n",
    "print(test_labels_tensor[10])"
   ]
  },
  {
   "cell_type": "code",
   "execution_count": null,
   "id": "c8b3d7c3-ed5b-4e61-a04b-7b3a9cdf8590",
   "metadata": {},
   "outputs": [],
   "source": []
  },
  {
   "cell_type": "code",
   "execution_count": 45,
   "id": "e571e13a-201e-443c-b633-385235fb4f7a",
   "metadata": {},
   "outputs": [],
   "source": [
    "# Загрузка данных из файлов\n",
    "train_data_tensor = torch.load('train_data3.pt')\n",
    "train_labels_tensor = torch.load('train_labels3.pt')\n",
    "\n",
    "\n",
    "test_data_tensor = torch.load('test_data3.pt')\n",
    "test_labels_tensor = torch.load('test_labels3.pt')"
   ]
  },
  {
   "cell_type": "code",
   "execution_count": null,
   "id": "180094d3-01dc-4d21-84aa-2e63d2db58e2",
   "metadata": {},
   "outputs": [],
   "source": [
    "\n",
    "\n"
   ]
  },
  {
   "cell_type": "code",
   "execution_count": 32,
   "id": "5eb5ab3e-c6a5-402c-80f0-26485ecd7fea",
   "metadata": {
    "tags": []
   },
   "outputs": [
    {
     "data": {
      "text/plain": [
       "'\\ntrain_data1, train_labels1 = preprocess_data(train_data, train_labels)\\nval_data1, val_labels1 = preprocess_data(val_data, val_labels)\\ntest_data1, test_labels1 = preprocess_data(test_data, test_labels)\\n'"
      ]
     },
     "execution_count": 32,
     "metadata": {},
     "output_type": "execute_result"
    }
   ],
   "source": [
    "'''\n",
    "train_data1, train_labels1 = preprocess_data(train_data, train_labels)\n",
    "\n",
    "test_data1, test_labels1 = preprocess_data(test_data, test_labels)\n",
    "'''"
   ]
  },
  {
   "cell_type": "code",
   "execution_count": 33,
   "id": "466ae104-0f35-415b-9525-5f59de64eeb6",
   "metadata": {
    "tags": []
   },
   "outputs": [
    {
     "data": {
      "text/plain": [
       "\"\\ntorch.save(train_data1, 'train_data1.pt')\\ntorch.save(train_labels1, 'train_labels1.pt')\\ntorch.save(val_data1, 'val_data1.pt')\\ntorch.save(val_labels1, 'val_labels1.pt')\\ntorch.save(test_data1, 'test_data1.pt')\\ntorch.save(test_labels1, 'test_labels1.pt')\\n\""
      ]
     },
     "execution_count": 33,
     "metadata": {},
     "output_type": "execute_result"
    }
   ],
   "source": [
    "# Сохранение данных в файлы\n",
    "'''\n",
    "torch.save(train_data1, 'train_data1.pt')\n",
    "torch.save(train_labels1, 'train_labels1.pt')\n",
    "torch.save(val_data1, 'val_data1.pt')\n",
    "torch.save(val_labels1, 'val_labels1.pt')\n",
    "torch.save(test_data1, 'test_data1.pt')\n",
    "torch.save(test_labels1, 'test_labels1.pt')\n",
    "'''"
   ]
  },
  {
   "cell_type": "code",
   "execution_count": 34,
   "id": "04626e16-0743-4da1-a9e7-aaf68ebd90bb",
   "metadata": {
    "tags": []
   },
   "outputs": [],
   "source": [
    "\n",
    "\n",
    "# Загрузка данных из файлов\n",
    "train_data_tensor = torch.load('train_data1.pt')\n",
    "train_labels_tensor = torch.load('train_labels1.pt')\n",
    "val_data_tensor = torch.load('val_data1.pt')\n",
    "val_labels_tensor = torch.load('val_labels1.pt')\n",
    "test_data_tensor = torch.load('test_data1.pt')\n",
    "test_labels_tensor = torch.load('test_labels1.pt')"
   ]
  },
  {
   "cell_type": "code",
   "execution_count": null,
   "id": "7c71d6b2-00a0-4fbf-918d-c4b48e600434",
   "metadata": {},
   "outputs": [],
   "source": []
  },
  {
   "cell_type": "code",
   "execution_count": 35,
   "id": "bf37be1e-e5b8-488b-8d21-79aa2843f4bc",
   "metadata": {
    "tags": []
   },
   "outputs": [
    {
     "data": {
      "text/plain": [
       "'\\ntrain_labels_tensor = [label - 1 if label <= 4 else label - 3 for label in train_labels_tensor]\\nval_labels_tensor = [label - 1 if label <= 4 else label - 3 for label in val_labels_tensor]\\ntest_labels_tensor = [label - 1 if label <= 4 else label - 3 for label in test_labels_tensor]\\n'"
      ]
     },
     "execution_count": 35,
     "metadata": {},
     "output_type": "execute_result"
    }
   ],
   "source": [
    "# Преобразование меток классов\n",
    "'''\n",
    "train_labels_tensor = [label - 1 if label <= 4 else label - 3 for label in train_labels_tensor]\n",
    "val_labels_tensor = [label - 1 if label <= 4 else label - 3 for label in val_labels_tensor]\n",
    "test_labels_tensor = [label - 1 if label <= 4 else label - 3 for label in test_labels_tensor]\n",
    "'''"
   ]
  },
  {
   "cell_type": "code",
   "execution_count": 36,
   "id": "d485f369-6322-48fe-b8c6-8628e5b01c21",
   "metadata": {
    "tags": []
   },
   "outputs": [
    {
     "name": "stderr",
     "output_type": "stream",
     "text": [
      "C:\\Users\\drug1\\AppData\\Local\\Temp\\ipykernel_14116\\3457568113.py:1: UserWarning: To copy construct from a tensor, it is recommended to use sourceTensor.clone().detach() or sourceTensor.clone().detach().requires_grad_(True), rather than torch.tensor(sourceTensor).\n",
      "  train_labels_tensor = torch.tensor(train_labels_tensor)\n",
      "C:\\Users\\drug1\\AppData\\Local\\Temp\\ipykernel_14116\\3457568113.py:4: UserWarning: To copy construct from a tensor, it is recommended to use sourceTensor.clone().detach() or sourceTensor.clone().detach().requires_grad_(True), rather than torch.tensor(sourceTensor).\n",
      "  val_labels_tensor = torch.tensor(val_labels_tensor)\n",
      "C:\\Users\\drug1\\AppData\\Local\\Temp\\ipykernel_14116\\3457568113.py:7: UserWarning: To copy construct from a tensor, it is recommended to use sourceTensor.clone().detach() or sourceTensor.clone().detach().requires_grad_(True), rather than torch.tensor(sourceTensor).\n",
      "  test_labels_tensor = torch.tensor(test_labels_tensor)\n"
     ]
    }
   ],
   "source": [
    "train_labels_tensor = torch.tensor(train_labels_tensor)\n",
    "train_labels_tensor = torch.where(train_labels_tensor <= 4, train_labels_tensor - 1, train_labels_tensor - 3)\n",
    "\n",
    "val_labels_tensor = torch.tensor(val_labels_tensor)\n",
    "val_labels_tensor = torch.where(val_labels_tensor <= 4, val_labels_tensor - 1, val_labels_tensor - 3)\n",
    "\n",
    "test_labels_tensor = torch.tensor(test_labels_tensor)\n",
    "test_labels_tensor = torch.where(test_labels_tensor <= 4, test_labels_tensor - 1, test_labels_tensor - 3)"
   ]
  },
  {
   "cell_type": "code",
   "execution_count": 37,
   "id": "66805cdd-0fee-49c1-8c2a-e42121569cdd",
   "metadata": {
    "tags": []
   },
   "outputs": [
    {
     "data": {
      "text/plain": [
       "13312"
      ]
     },
     "execution_count": 37,
     "metadata": {},
     "output_type": "execute_result"
    }
   ],
   "source": [
    "len(test_labels_tensor)"
   ]
  },
  {
   "cell_type": "code",
   "execution_count": 38,
   "id": "be97ea8f-b088-4d95-9aef-d45effedf85c",
   "metadata": {
    "tags": []
   },
   "outputs": [
    {
     "data": {
      "text/plain": [
       "4688"
      ]
     },
     "execution_count": 38,
     "metadata": {},
     "output_type": "execute_result"
    }
   ],
   "source": [
    "len(val_labels_tensor)"
   ]
  },
  {
   "cell_type": "code",
   "execution_count": 39,
   "id": "36a58b16-b79d-4337-aca1-06ebec379fbd",
   "metadata": {
    "tags": []
   },
   "outputs": [
    {
     "data": {
      "text/plain": [
       "32000"
      ]
     },
     "execution_count": 39,
     "metadata": {},
     "output_type": "execute_result"
    }
   ],
   "source": [
    "len(train_labels_tensor)"
   ]
  },
  {
   "cell_type": "code",
   "execution_count": 40,
   "id": "be040039-754c-4300-9615-6dc7a38be317",
   "metadata": {
    "tags": []
   },
   "outputs": [
    {
     "data": {
      "text/plain": [
       "9"
      ]
     },
     "execution_count": 40,
     "metadata": {},
     "output_type": "execute_result"
    }
   ],
   "source": [
    "train_labels[31000]"
   ]
  },
  {
   "cell_type": "code",
   "execution_count": 41,
   "id": "8cd62112-b426-4283-ae7e-60555a8eb7d1",
   "metadata": {
    "tags": []
   },
   "outputs": [
    {
     "data": {
      "text/plain": [
       "tensor(6)"
      ]
     },
     "execution_count": 41,
     "metadata": {},
     "output_type": "execute_result"
    }
   ],
   "source": [
    "train_labels_tensor[31000]"
   ]
  },
  {
   "cell_type": "code",
   "execution_count": 42,
   "id": "2cb8be62-a29f-4283-b7e1-57e249ca7e92",
   "metadata": {
    "tags": []
   },
   "outputs": [
    {
     "data": {
      "text/plain": [
       "tensor(7)"
      ]
     },
     "execution_count": 42,
     "metadata": {},
     "output_type": "execute_result"
    }
   ],
   "source": [
    "test_labels_tensor[6000]"
   ]
  },
  {
   "cell_type": "code",
   "execution_count": 43,
   "id": "a66c7f07-40f5-4861-895c-692c3136dfbc",
   "metadata": {
    "tags": []
   },
   "outputs": [
    {
     "data": {
      "text/plain": [
       "'It\\'s remarkable and quite praiseworthy how writers and directors continue to make great movies out of one of the oldest and most (over)used story lines in cinema! \"Dog Bite Dog\" is basically not much more than just the simple story of an lone copper obsessively chasing a brilliant criminal, only Pou-Soi Cheang distinguishes his film from the rest by being extremely violent & relentless. This is unquestionably one of the grittiest and most uncompromising movies I\\'ve ever seen, with an atmosphere of constant nihilism and characters that seem to come walking straight out of hell! Not even the installments in Chan-Wook Park\\'s trilogy of vengeance (with the exception of \"Oldboy\", perhaps) or any other infamous Cat-III film ever released were as sadistic and brutal as some of the events depicted in \"Dog Bite Dog\". Pang is a young and ruthless Cambodian assassin who lands in the crowded streets of Hong Kong to eliminate the wife of an eminent judge in a restaurant. When the police arrives at the place, young officer Wai sees how Pang hastily flees from the scene of the crime and follow him. The first actual confrontation between the two rabid dogs results in a gigantic blood bath, as Pang mercilessly kills several hostages and even Wai\\'s long time friend and colleague. From then on begins a thrilling and action-packed cat and mouse game between the frustrated cop and the professional killer. The latter also saves a young girl from the constant sexual abuse of her father and stays with her at her shed in the local garbage dump. What makes this routine action/thriller so fascinating (apart from the explicit violence) are the main characters\\' backgrounds! Pang, the hit-man, is a Cambodian orphan and has been trained to fight & kill for money ever since he was a child. He knows no restrictions, has no mercy and barely speaks a word. Wai, the cop, became particularly ruthless and unorthodox ever since his role-model father (also a cop) lies in a coma after a drug-related incident. Lai doesn\\'t question suspects and witnesses; he yells at them and he\\'s prepared to sacrifice everything in order to stop his brand new nemesis. People with a weak stomach or tangled nerves are advised to stay away from this film, because the cruelty and shocks featuring in \"Dog Bite Dog\" can easily cause nausea. It\\'s not the type of violence where bloodied heads and chopped off limbs fly through the air, but more like the intense and utterly disturbing type where people attempt to crush their opponents mentally as well as physically. The filming locations are effectively dark and eerie and the extremely sober music makes the already harrowing tone of the movie even more petrifying. The performances are terrific! I wouldn\\'t be surprised if Edison Chen and Sam Lee treated each other like enemies on the film set as well, because their on screen hatred and disgust feels a little too legitimate. \"Dog Bite Dog\" is a powerful and unforgettable film, highly recommended if you can stomach it. If you fear you can\\'t, just wait a few years for the inevitable American remake which will unquestionably soften the premise a little.'"
      ]
     },
     "execution_count": 43,
     "metadata": {},
     "output_type": "execute_result"
    }
   ],
   "source": [
    "train_data[30000]"
   ]
  },
  {
   "cell_type": "code",
   "execution_count": 44,
   "id": "c3f0b406-6065-404d-9648-6d4f24861d67",
   "metadata": {
    "tags": []
   },
   "outputs": [
    {
     "data": {
      "text/plain": [
       "tensor([   0, 1677,    2,  176,    0,   86,  893,    2,  872, 1685,    5,   95,\n",
       "          84,  100,   45,    4,   27,    4,    1, 5439,    2,   88,    0,   62,\n",
       "         398,    8,    0,    0, 3872,    0,    6,  669,   20,   73,   50,   71,\n",
       "          41,    1,  588,   62,    4,   32, 4708,    0,    0, 3270,    3,  510,\n",
       "           0,   61,    0,    0,    0,   24,   18,   35,    1,  349,   31,  109,\n",
       "         556, 1099,    0,    0,   10,    6,    0,   27,    4,    1,    0,    2,\n",
       "          88,    0,  100,  198,  122,    0,   15,   32,  810,    4, 1766,    0,\n",
       "           2,  102,   11,  297,    5,  211, 1254,  791,   45,    4,    0,   20,\n",
       "          54,    1,    0,    8,    0,    0, 2302,    4, 4445,    0,    1, 1345,\n",
       "           4,    0,    0,   40,   98,   79, 3065,    0,   18,  122,  616,   68,\n",
       "          13, 3876,    2, 1719,   13,   48,    4,    1,  665, 2320,    8,    0,\n",
       "        3872,    0,    0,    6,    3,  180,    2, 4191,    0, 4824,   33, 5220,\n",
       "           8,    1, 8372, 1884,    4, 2514, 1937,    5, 9439,    1,  308,    4,\n",
       "          32,    0, 1819,    8,    3,    0,   51,    1,  547, 2863,   30,    1,\n",
       "           0,  180, 1816,    0, 1044,   86,    0,    0,    0,   35,    1,  133,\n",
       "           4,    1,  822,    2,  819,    0,    1,   85,  750, 5039,  195,    1,\n",
       "         106, 9811, 2445, 1846,    8,    3, 7274,  525])"
      ]
     },
     "execution_count": 44,
     "metadata": {},
     "output_type": "execute_result"
    }
   ],
   "source": [
    "train_data_tensor[30000]"
   ]
  },
  {
   "cell_type": "code",
   "execution_count": null,
   "id": "b32ba9a0-0d10-42e7-8e15-86c3c9e27ffe",
   "metadata": {},
   "outputs": [],
   "source": []
  },
  {
   "cell_type": "code",
   "execution_count": 45,
   "id": "0f944d86-51ae-4d21-96c7-13bcd5447cf6",
   "metadata": {
    "tags": []
   },
   "outputs": [],
   "source": [
    "# Датасеты\n",
    "train_dataset = torch.utils.data.TensorDataset(train_data_tensor.clone().detach(), train_labels_tensor.clone().detach())\n",
    "val_dataset = torch.utils.data.TensorDataset(val_data_tensor.clone().detach(), val_labels_tensor.clone().detach())\n",
    "test_dataset = torch.utils.data.TensorDataset(test_data_tensor.clone().detach(), test_labels_tensor.clone().detach())\n"
   ]
  },
  {
   "cell_type": "code",
   "execution_count": 46,
   "id": "0552fb1c-82d2-49cf-a204-b9fb79fd9995",
   "metadata": {
    "tags": []
   },
   "outputs": [],
   "source": [
    "# Создание итераторов для загрузки данных\n",
    "\n",
    "train_loader = torch.utils.data.DataLoader(train_dataset, batch_size=batch_size, shuffle=True)\n",
    "\n",
    "\n",
    "val_loader = torch.utils.data.DataLoader(val_dataset, batch_size=batch_size, shuffle=True)\n",
    "\n",
    "\n",
    "test_loader = torch.utils.data.DataLoader(test_dataset, batch_size=batch_size, shuffle=False)\n"
   ]
  }
 ],
 "metadata": {
  "kernelspec": {
   "display_name": "Python 3 (ipykernel)",
   "language": "python",
   "name": "python3"
  },
  "language_info": {
   "codemirror_mode": {
    "name": "ipython",
    "version": 3
   },
   "file_extension": ".py",
   "mimetype": "text/x-python",
   "name": "python",
   "nbconvert_exporter": "python",
   "pygments_lexer": "ipython3",
   "version": "3.10.11"
  }
 },
 "nbformat": 4,
 "nbformat_minor": 5
}
