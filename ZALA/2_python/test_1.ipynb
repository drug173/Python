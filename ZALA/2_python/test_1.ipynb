{
 "cells": [
  {
   "cell_type": "markdown",
   "metadata": {},
   "source": [
    "## Задание 4 Решить простые задачи с основными конструкциями и операторами\n"
   ]
  },
  {
   "cell_type": "markdown",
   "metadata": {},
   "source": [
    "### Задача 1. Максимум, минимум, остальное\n"
   ]
  },
  {
   "cell_type": "code",
   "execution_count": 3,
   "metadata": {},
   "outputs": [
    {
     "name": "stdout",
     "output_type": "stream",
     "text": [
      "8\n",
      "4\n",
      "5\n"
     ]
    }
   ],
   "source": [
    "def print_ordered_numbers(): \n",
    "    # Запрос чисел у пользователя  \n",
    "    input_num1 = int(input(\"Введите первое число: \"))  \n",
    "    input_num2 = int(input(\"Введите второе число: \"))  \n",
    "    input_num3 = int(input(\"Введите третье число: \"))   \n",
    "    # Находим максимальное, минимальное и оставшееся число  \n",
    "    maximum = max(input_num1, input_num2, input_num3)  \n",
    "    minimum = min(input_num1, input_num2, input_num3)  \n",
    "    \n",
    "    # Находим оставшееся число  \n",
    "    remaining = input_num1 + input_num2 + input_num3 - maximum - minimum  \n",
    "    \n",
    "    # Выводим числа в нужном порядке  \n",
    "    print(maximum)  \n",
    "    print(minimum)  \n",
    "    print(remaining)  \n",
    "\n",
    "\n",
    "\n",
    "# Вызов функции с введёнными числами  \n",
    "print_ordered_numbers()"
   ]
  },
  {
   "cell_type": "markdown",
   "metadata": {},
   "source": [
    "### Задача 2. Счастливый билет\n"
   ]
  },
  {
   "cell_type": "code",
   "execution_count": 4,
   "metadata": {},
   "outputs": [
    {
     "name": "stdout",
     "output_type": "stream",
     "text": [
      "Счастливый\n"
     ]
    }
   ],
   "source": [
    "def check_ticket(ticket_number):  \n",
    "    # Убедимся, что у нас есть шестизначный номер  \n",
    "    if len(ticket_number) != 6 or not ticket_number.isdigit():  \n",
    "        print(\"Ошибка: билет должен состоять из 6 цифр.\")  \n",
    "        return  \n",
    "    \n",
    "    # Суммируем первые три цифры и последние три цифры  \n",
    "    sum_first_half = sum(int(ticket_number[i]) for i in range(3))  \n",
    "    sum_second_half = sum(int(ticket_number[i]) for i in range(3, 6))  \n",
    "\n",
    "    # Проверяем равенство сумм  \n",
    "    if sum_first_half == sum_second_half:  \n",
    "        print(\"Счастливый\")  \n",
    "    else:  \n",
    "        print(\"Обычный\")  \n",
    "\n",
    "# Запрос номера билета у пользователя  \n",
    "ticket = input(\"Введите номер билета из 6 цифр: \")  \n",
    "check_ticket(ticket)"
   ]
  },
  {
   "cell_type": "code",
   "execution_count": null,
   "metadata": {},
   "outputs": [],
   "source": []
  }
 ],
 "metadata": {
  "kernelspec": {
   "display_name": ".venv",
   "language": "python",
   "name": "python3"
  },
  "language_info": {
   "codemirror_mode": {
    "name": "ipython",
    "version": 3
   },
   "file_extension": ".py",
   "mimetype": "text/x-python",
   "name": "python",
   "nbconvert_exporter": "python",
   "pygments_lexer": "ipython3",
   "version": "3.13.0"
  }
 },
 "nbformat": 4,
 "nbformat_minor": 2
}
